{
 "cells": [
  {
   "cell_type": "code",
   "execution_count": 24,
   "id": "e3353244",
   "metadata": {},
   "outputs": [],
   "source": [
    "import numpy as np\n",
    "import pandas as pd\n",
    "import matplotlib.pyplot as plt\n",
    "import sys\n",
    "import sqlite3\n",
    "\n",
    "sys.path.insert(0, '/home/nsryan/Desktop/arfc/transition-scenarios/scripts')\n",
    "mycolors = [\"#332288\", \"#117733\", \"#44AA99\", \"#88CCEE\", \"#DDCC77\", \"#CC6677\", \"#AA4499\", \"#882255\"]\n",
    "plt.rcParams.update({'font.size': 15})"
   ]
  },
  {
   "cell_type": "code",
   "execution_count": 25,
   "id": "18e08bcc",
   "metadata": {},
   "outputs": [],
   "source": [
    "import cymetric as cym\n",
    "import transition_metrics as tm\n",
    "import dataframe_analysis as dta\n",
    "\n",
    "import waste_calcs"
   ]
  },
  {
   "cell_type": "markdown",
   "id": "c63e5099",
   "metadata": {},
   "source": [
    "## Scope\n",
    "\n",
    "This single MMR-like simulation is to establish BOE calculations. One MMR-like reactor is deployed in 1965 and operates for 20 years without shutting down. There is one mine, mill, conversion facility, enrichment facility, fuel fabrication facility, and repository.\n",
    "\n",
    "In this notebook, I will test each of the analyses that I will perform on multi-reactor simulations to ensure they match back-of-the-envelope calculations."
   ]
  },
  {
   "cell_type": "markdown",
   "id": "0c5c66e1",
   "metadata": {},
   "source": [
    "## Reactor Deployment"
   ]
  },
  {
   "cell_type": "code",
   "execution_count": 26,
   "id": "78c9bb33",
   "metadata": {},
   "outputs": [],
   "source": [
    "current_outfile = 'output_files/single_mmr_test.sqlite'"
   ]
  },
  {
   "cell_type": "code",
   "execution_count": 27,
   "id": "da075b3e",
   "metadata": {},
   "outputs": [],
   "source": [
    "current_mmr = ['Mine', 'Mill', 'Conversion',\n",
    "               'Enrichment', 'FuelFab', 'United States Nuclear',\n",
    "               'USA', 'MMR', 'NuclearRepository', 'Reactors']"
   ]
  },
  {
   "cell_type": "code",
   "execution_count": 28,
   "id": "bd4b2551",
   "metadata": {},
   "outputs": [],
   "source": [
    "current_reactors = tm.get_prototype_totals(current_outfile, current_mmr, ['MMR'])\n",
    "current_reactors = dta.add_year(current_reactors)"
   ]
  },
  {
   "cell_type": "code",
   "execution_count": 29,
   "id": "a91faab9",
   "metadata": {},
   "outputs": [
    {
     "data": {
      "text/html": [
       "<div>\n",
       "<style scoped>\n",
       "    .dataframe tbody tr th:only-of-type {\n",
       "        vertical-align: middle;\n",
       "    }\n",
       "\n",
       "    .dataframe tbody tr th {\n",
       "        vertical-align: top;\n",
       "    }\n",
       "\n",
       "    .dataframe thead th {\n",
       "        text-align: right;\n",
       "    }\n",
       "</style>\n",
       "<table border=\"1\" class=\"dataframe\">\n",
       "  <thead>\n",
       "    <tr style=\"text-align: right;\">\n",
       "      <th>Prototype</th>\n",
       "      <th>index</th>\n",
       "      <th>Time</th>\n",
       "      <th>0</th>\n",
       "      <th>Conversion_enter</th>\n",
       "      <th>Enrichment_enter</th>\n",
       "      <th>FuelFab_enter</th>\n",
       "      <th>MMR_enter</th>\n",
       "      <th>Mill_enter</th>\n",
       "      <th>Mine_enter</th>\n",
       "      <th>NuclearRepository_enter</th>\n",
       "      <th>...</th>\n",
       "      <th>United States Nuclear_exit</th>\n",
       "      <th>USA_exit</th>\n",
       "      <th>NuclearRepository_exit</th>\n",
       "      <th>Reactors_exit</th>\n",
       "      <th>lwr_exit</th>\n",
       "      <th>lwr_total</th>\n",
       "      <th>Year</th>\n",
       "      <th>advrx_enter</th>\n",
       "      <th>advrx_total</th>\n",
       "      <th>MMR_total</th>\n",
       "    </tr>\n",
       "  </thead>\n",
       "  <tbody>\n",
       "    <tr>\n",
       "      <th>0</th>\n",
       "      <td>0</td>\n",
       "      <td>0</td>\n",
       "      <td>0.0</td>\n",
       "      <td>1.0</td>\n",
       "      <td>1.0</td>\n",
       "      <td>1.0</td>\n",
       "      <td>1.0</td>\n",
       "      <td>1.0</td>\n",
       "      <td>1.0</td>\n",
       "      <td>1.0</td>\n",
       "      <td>...</td>\n",
       "      <td>0.0</td>\n",
       "      <td>0.0</td>\n",
       "      <td>0.0</td>\n",
       "      <td>0.0</td>\n",
       "      <td>0.0</td>\n",
       "      <td>0.0</td>\n",
       "      <td>1965.00</td>\n",
       "      <td>1.0</td>\n",
       "      <td>1.0</td>\n",
       "      <td>1.0</td>\n",
       "    </tr>\n",
       "    <tr>\n",
       "      <th>1</th>\n",
       "      <td>1</td>\n",
       "      <td>1</td>\n",
       "      <td>0.0</td>\n",
       "      <td>0.0</td>\n",
       "      <td>0.0</td>\n",
       "      <td>0.0</td>\n",
       "      <td>0.0</td>\n",
       "      <td>0.0</td>\n",
       "      <td>0.0</td>\n",
       "      <td>0.0</td>\n",
       "      <td>...</td>\n",
       "      <td>0.0</td>\n",
       "      <td>0.0</td>\n",
       "      <td>0.0</td>\n",
       "      <td>0.0</td>\n",
       "      <td>0.0</td>\n",
       "      <td>0.0</td>\n",
       "      <td>1965.08</td>\n",
       "      <td>0.0</td>\n",
       "      <td>1.0</td>\n",
       "      <td>1.0</td>\n",
       "    </tr>\n",
       "    <tr>\n",
       "      <th>2</th>\n",
       "      <td>2</td>\n",
       "      <td>2</td>\n",
       "      <td>0.0</td>\n",
       "      <td>0.0</td>\n",
       "      <td>0.0</td>\n",
       "      <td>0.0</td>\n",
       "      <td>0.0</td>\n",
       "      <td>0.0</td>\n",
       "      <td>0.0</td>\n",
       "      <td>0.0</td>\n",
       "      <td>...</td>\n",
       "      <td>0.0</td>\n",
       "      <td>0.0</td>\n",
       "      <td>0.0</td>\n",
       "      <td>0.0</td>\n",
       "      <td>0.0</td>\n",
       "      <td>0.0</td>\n",
       "      <td>1965.17</td>\n",
       "      <td>0.0</td>\n",
       "      <td>1.0</td>\n",
       "      <td>1.0</td>\n",
       "    </tr>\n",
       "    <tr>\n",
       "      <th>3</th>\n",
       "      <td>3</td>\n",
       "      <td>3</td>\n",
       "      <td>0.0</td>\n",
       "      <td>0.0</td>\n",
       "      <td>0.0</td>\n",
       "      <td>0.0</td>\n",
       "      <td>0.0</td>\n",
       "      <td>0.0</td>\n",
       "      <td>0.0</td>\n",
       "      <td>0.0</td>\n",
       "      <td>...</td>\n",
       "      <td>0.0</td>\n",
       "      <td>0.0</td>\n",
       "      <td>0.0</td>\n",
       "      <td>0.0</td>\n",
       "      <td>0.0</td>\n",
       "      <td>0.0</td>\n",
       "      <td>1965.25</td>\n",
       "      <td>0.0</td>\n",
       "      <td>1.0</td>\n",
       "      <td>1.0</td>\n",
       "    </tr>\n",
       "    <tr>\n",
       "      <th>4</th>\n",
       "      <td>4</td>\n",
       "      <td>4</td>\n",
       "      <td>0.0</td>\n",
       "      <td>0.0</td>\n",
       "      <td>0.0</td>\n",
       "      <td>0.0</td>\n",
       "      <td>0.0</td>\n",
       "      <td>0.0</td>\n",
       "      <td>0.0</td>\n",
       "      <td>0.0</td>\n",
       "      <td>...</td>\n",
       "      <td>0.0</td>\n",
       "      <td>0.0</td>\n",
       "      <td>0.0</td>\n",
       "      <td>0.0</td>\n",
       "      <td>0.0</td>\n",
       "      <td>0.0</td>\n",
       "      <td>1965.33</td>\n",
       "      <td>0.0</td>\n",
       "      <td>1.0</td>\n",
       "      <td>1.0</td>\n",
       "    </tr>\n",
       "    <tr>\n",
       "      <th>...</th>\n",
       "      <td>...</td>\n",
       "      <td>...</td>\n",
       "      <td>...</td>\n",
       "      <td>...</td>\n",
       "      <td>...</td>\n",
       "      <td>...</td>\n",
       "      <td>...</td>\n",
       "      <td>...</td>\n",
       "      <td>...</td>\n",
       "      <td>...</td>\n",
       "      <td>...</td>\n",
       "      <td>...</td>\n",
       "      <td>...</td>\n",
       "      <td>...</td>\n",
       "      <td>...</td>\n",
       "      <td>...</td>\n",
       "      <td>...</td>\n",
       "      <td>...</td>\n",
       "      <td>...</td>\n",
       "      <td>...</td>\n",
       "      <td>...</td>\n",
       "    </tr>\n",
       "    <tr>\n",
       "      <th>775</th>\n",
       "      <td>775</td>\n",
       "      <td>775</td>\n",
       "      <td>0.0</td>\n",
       "      <td>0.0</td>\n",
       "      <td>0.0</td>\n",
       "      <td>0.0</td>\n",
       "      <td>0.0</td>\n",
       "      <td>0.0</td>\n",
       "      <td>0.0</td>\n",
       "      <td>0.0</td>\n",
       "      <td>...</td>\n",
       "      <td>0.0</td>\n",
       "      <td>0.0</td>\n",
       "      <td>0.0</td>\n",
       "      <td>0.0</td>\n",
       "      <td>0.0</td>\n",
       "      <td>0.0</td>\n",
       "      <td>2029.58</td>\n",
       "      <td>0.0</td>\n",
       "      <td>0.0</td>\n",
       "      <td>0.0</td>\n",
       "    </tr>\n",
       "    <tr>\n",
       "      <th>776</th>\n",
       "      <td>776</td>\n",
       "      <td>776</td>\n",
       "      <td>0.0</td>\n",
       "      <td>0.0</td>\n",
       "      <td>0.0</td>\n",
       "      <td>0.0</td>\n",
       "      <td>0.0</td>\n",
       "      <td>0.0</td>\n",
       "      <td>0.0</td>\n",
       "      <td>0.0</td>\n",
       "      <td>...</td>\n",
       "      <td>0.0</td>\n",
       "      <td>0.0</td>\n",
       "      <td>0.0</td>\n",
       "      <td>0.0</td>\n",
       "      <td>0.0</td>\n",
       "      <td>0.0</td>\n",
       "      <td>2029.67</td>\n",
       "      <td>0.0</td>\n",
       "      <td>0.0</td>\n",
       "      <td>0.0</td>\n",
       "    </tr>\n",
       "    <tr>\n",
       "      <th>777</th>\n",
       "      <td>777</td>\n",
       "      <td>777</td>\n",
       "      <td>0.0</td>\n",
       "      <td>0.0</td>\n",
       "      <td>0.0</td>\n",
       "      <td>0.0</td>\n",
       "      <td>0.0</td>\n",
       "      <td>0.0</td>\n",
       "      <td>0.0</td>\n",
       "      <td>0.0</td>\n",
       "      <td>...</td>\n",
       "      <td>0.0</td>\n",
       "      <td>0.0</td>\n",
       "      <td>0.0</td>\n",
       "      <td>0.0</td>\n",
       "      <td>0.0</td>\n",
       "      <td>0.0</td>\n",
       "      <td>2029.75</td>\n",
       "      <td>0.0</td>\n",
       "      <td>0.0</td>\n",
       "      <td>0.0</td>\n",
       "    </tr>\n",
       "    <tr>\n",
       "      <th>778</th>\n",
       "      <td>778</td>\n",
       "      <td>778</td>\n",
       "      <td>0.0</td>\n",
       "      <td>0.0</td>\n",
       "      <td>0.0</td>\n",
       "      <td>0.0</td>\n",
       "      <td>0.0</td>\n",
       "      <td>0.0</td>\n",
       "      <td>0.0</td>\n",
       "      <td>0.0</td>\n",
       "      <td>...</td>\n",
       "      <td>0.0</td>\n",
       "      <td>0.0</td>\n",
       "      <td>0.0</td>\n",
       "      <td>0.0</td>\n",
       "      <td>0.0</td>\n",
       "      <td>0.0</td>\n",
       "      <td>2029.83</td>\n",
       "      <td>0.0</td>\n",
       "      <td>0.0</td>\n",
       "      <td>0.0</td>\n",
       "    </tr>\n",
       "    <tr>\n",
       "      <th>779</th>\n",
       "      <td>779</td>\n",
       "      <td>779</td>\n",
       "      <td>0.0</td>\n",
       "      <td>0.0</td>\n",
       "      <td>0.0</td>\n",
       "      <td>0.0</td>\n",
       "      <td>0.0</td>\n",
       "      <td>0.0</td>\n",
       "      <td>0.0</td>\n",
       "      <td>0.0</td>\n",
       "      <td>...</td>\n",
       "      <td>0.0</td>\n",
       "      <td>0.0</td>\n",
       "      <td>0.0</td>\n",
       "      <td>0.0</td>\n",
       "      <td>0.0</td>\n",
       "      <td>0.0</td>\n",
       "      <td>2029.92</td>\n",
       "      <td>0.0</td>\n",
       "      <td>0.0</td>\n",
       "      <td>0.0</td>\n",
       "    </tr>\n",
       "  </tbody>\n",
       "</table>\n",
       "<p>780 rows × 30 columns</p>\n",
       "</div>"
      ],
      "text/plain": [
       "Prototype  index  Time    0  Conversion_enter  Enrichment_enter  \\\n",
       "0              0     0  0.0               1.0               1.0   \n",
       "1              1     1  0.0               0.0               0.0   \n",
       "2              2     2  0.0               0.0               0.0   \n",
       "3              3     3  0.0               0.0               0.0   \n",
       "4              4     4  0.0               0.0               0.0   \n",
       "..           ...   ...  ...               ...               ...   \n",
       "775          775   775  0.0               0.0               0.0   \n",
       "776          776   776  0.0               0.0               0.0   \n",
       "777          777   777  0.0               0.0               0.0   \n",
       "778          778   778  0.0               0.0               0.0   \n",
       "779          779   779  0.0               0.0               0.0   \n",
       "\n",
       "Prototype  FuelFab_enter  MMR_enter  Mill_enter  Mine_enter  \\\n",
       "0                    1.0        1.0         1.0         1.0   \n",
       "1                    0.0        0.0         0.0         0.0   \n",
       "2                    0.0        0.0         0.0         0.0   \n",
       "3                    0.0        0.0         0.0         0.0   \n",
       "4                    0.0        0.0         0.0         0.0   \n",
       "..                   ...        ...         ...         ...   \n",
       "775                  0.0        0.0         0.0         0.0   \n",
       "776                  0.0        0.0         0.0         0.0   \n",
       "777                  0.0        0.0         0.0         0.0   \n",
       "778                  0.0        0.0         0.0         0.0   \n",
       "779                  0.0        0.0         0.0         0.0   \n",
       "\n",
       "Prototype  NuclearRepository_enter  ...  United States Nuclear_exit  USA_exit  \\\n",
       "0                              1.0  ...                         0.0       0.0   \n",
       "1                              0.0  ...                         0.0       0.0   \n",
       "2                              0.0  ...                         0.0       0.0   \n",
       "3                              0.0  ...                         0.0       0.0   \n",
       "4                              0.0  ...                         0.0       0.0   \n",
       "..                             ...  ...                         ...       ...   \n",
       "775                            0.0  ...                         0.0       0.0   \n",
       "776                            0.0  ...                         0.0       0.0   \n",
       "777                            0.0  ...                         0.0       0.0   \n",
       "778                            0.0  ...                         0.0       0.0   \n",
       "779                            0.0  ...                         0.0       0.0   \n",
       "\n",
       "Prototype  NuclearRepository_exit  Reactors_exit  lwr_exit  lwr_total  \\\n",
       "0                             0.0            0.0       0.0        0.0   \n",
       "1                             0.0            0.0       0.0        0.0   \n",
       "2                             0.0            0.0       0.0        0.0   \n",
       "3                             0.0            0.0       0.0        0.0   \n",
       "4                             0.0            0.0       0.0        0.0   \n",
       "..                            ...            ...       ...        ...   \n",
       "775                           0.0            0.0       0.0        0.0   \n",
       "776                           0.0            0.0       0.0        0.0   \n",
       "777                           0.0            0.0       0.0        0.0   \n",
       "778                           0.0            0.0       0.0        0.0   \n",
       "779                           0.0            0.0       0.0        0.0   \n",
       "\n",
       "Prototype     Year  advrx_enter  advrx_total  MMR_total  \n",
       "0          1965.00          1.0          1.0        1.0  \n",
       "1          1965.08          0.0          1.0        1.0  \n",
       "2          1965.17          0.0          1.0        1.0  \n",
       "3          1965.25          0.0          1.0        1.0  \n",
       "4          1965.33          0.0          1.0        1.0  \n",
       "..             ...          ...          ...        ...  \n",
       "775        2029.58          0.0          0.0        0.0  \n",
       "776        2029.67          0.0          0.0        0.0  \n",
       "777        2029.75          0.0          0.0        0.0  \n",
       "778        2029.83          0.0          0.0        0.0  \n",
       "779        2029.92          0.0          0.0        0.0  \n",
       "\n",
       "[780 rows x 30 columns]"
      ]
     },
     "execution_count": 29,
     "metadata": {},
     "output_type": "execute_result"
    }
   ],
   "source": [
    "current_reactors"
   ]
  },
  {
   "cell_type": "code",
   "execution_count": 30,
   "id": "0c4c28d7",
   "metadata": {},
   "outputs": [
    {
     "data": {
      "text/plain": [
       "<matplotlib.legend.Legend at 0x7fcff14d3588>"
      ]
     },
     "execution_count": 30,
     "metadata": {},
     "output_type": "execute_result"
    },
    {
     "data": {
      "image/png": "[encoded data removed]",
      "text/plain": [
       "<Figure size 432x288 with 1 Axes>"
      ]
     },
     "metadata": {
      "needs_background": "light"
     },
     "output_type": "display_data"
    }
   ],
   "source": [
    "plt.plot(current_reactors['Year'], current_reactors['MMR_total'], label='US LWRs', color=mycolors[0])\n",
    "plt.title('Number of Reactors Deployed')\n",
    "plt.xlabel('Year')\n",
    "plt.ylabel('Reactors [#]')\n",
    "plt.legend()"
   ]
  },
  {
   "cell_type": "markdown",
   "id": "3f917736",
   "metadata": {},
   "source": [
    "## Energy Output"
   ]
  },
  {
   "cell_type": "code",
   "execution_count": 7,
   "id": "69a0ade8",
   "metadata": {},
   "outputs": [],
   "source": [
    "current_energy = tm.get_annual_electricity(current_outfile)"
   ]
  },
  {
   "cell_type": "code",
   "execution_count": 8,
   "id": "da7182e7",
   "metadata": {},
   "outputs": [
    {
     "data": {
      "text/plain": [
       "<matplotlib.legend.Legend at 0x7fcff19174a8>"
      ]
     },
     "execution_count": 8,
     "metadata": {},
     "output_type": "execute_result"
    },
    {
     "data": {
      "image/png": "[encoded data removed]",
      "text/plain": [
       "<Figure size 432x288 with 1 Axes>"
      ]
     },
     "metadata": {
      "needs_background": "light"
     },
     "output_type": "display_data"
    }
   ],
   "source": [
    "# Plot the yearly energy\n",
    "\n",
    "plt.plot(current_energy['Year'], current_energy['Energy'],'.', label='MMR', color=mycolors[0])\n",
    "\n",
    "plt.title('Energy Generation Each Year')\n",
    "plt.xlabel('Year')\n",
    "plt.ylabel('Energy (GWe-y)')\n",
    "plt.legend()"
   ]
  },
  {
   "cell_type": "markdown",
   "id": "5d9766b6",
   "metadata": {},
   "source": [
    "## Material Transactions"
   ]
  },
  {
   "cell_type": "code",
   "execution_count": 9,
   "id": "9fa52c65",
   "metadata": {},
   "outputs": [],
   "source": [
    "current_transactions = tm.add_receiver_prototype(current_outfile)"
   ]
  },
  {
   "cell_type": "code",
   "execution_count": 10,
   "id": "2e976265",
   "metadata": {},
   "outputs": [],
   "source": [
    "current_uox = dta.commodity_mass_traded(current_transactions, 'fresh_uox')"
   ]
  },
  {
   "cell_type": "code",
   "execution_count": 11,
   "id": "a89a385a",
   "metadata": {},
   "outputs": [
    {
     "name": "stdout",
     "output_type": "stream",
     "text": [
      "Maximum mass: 0.54\n",
      "Total mass: 0       0.00\n",
      "1       0.00\n",
      "2       0.00\n",
      "3       0.00\n",
      "4       0.00\n",
      "        ... \n",
      "1495    0.54\n",
      "1496    0.54\n",
      "1497    0.54\n",
      "1498    0.54\n",
      "1499    0.54\n",
      "Name: Quantity, Length: 1500, dtype: float64\n"
     ]
    },
    {
     "data": {
      "image/png": "[encoded data removed]",
      "text/plain": [
       "<Figure size 432x288 with 1 Axes>"
      ]
     },
     "metadata": {
      "needs_background": "light"
     },
     "output_type": "display_data"
    }
   ],
   "source": [
    "# Comparing fresh_uox transactions to all reactors\n",
    "\n",
    "plt.plot(current_uox['Year'], current_uox['Quantity']/1000,'.',\n",
    "         label='MMRs', color=mycolors[0])\n",
    "plt.legend() #(loc=2)\n",
    "plt.ylabel('Mass (t)')\n",
    "plt.xlabel('Year')\n",
    "plt.title('Mass of Fuel supplied')\n",
    "\n",
    "print('Maximum mass:',max(current_uox['Quantity']/1000))\n",
    "print('Total mass:',current_uox['Quantity'].cumsum()/1000)"
   ]
  },
  {
   "cell_type": "code",
   "execution_count": 12,
   "id": "9a1f826a",
   "metadata": {},
   "outputs": [
    {
     "data": {
      "text/plain": [
       "Text(0.5, 1.0, 'Cumulative Mass of UOx supplied')"
      ]
     },
     "execution_count": 12,
     "metadata": {},
     "output_type": "execute_result"
    },
    {
     "data": {
      "image/png": "[encoded data removed]",
      "text/plain": [
       "<Figure size 432x288 with 1 Axes>"
      ]
     },
     "metadata": {
      "needs_background": "light"
     },
     "output_type": "display_data"
    }
   ],
   "source": [
    "plt.plot(current_uox['Year'], current_uox['Quantity'].cumsum()/1000,'.',\n",
    "         label='US LWRs', color=mycolors[0])\n",
    "plt.legend()\n",
    "plt.ylabel('Mass (t)')\n",
    "plt.xlabel('Year')\n",
    "plt.title('Cumulative Mass of UOx supplied')"
   ]
  },
  {
   "cell_type": "markdown",
   "id": "49c36be7",
   "metadata": {},
   "source": [
    "## SWU Calcs\n",
    "SWU = $(P*V(x_p) + T*V(x_t) - F*V(x_f))*t$\n",
    "\n",
    "V($x_i$) = $(2*x_i-1)*\\ln(x_i/(1-x_i))$"
   ]
  },
  {
   "cell_type": "code",
   "execution_count": 14,
   "id": "dfc227e9",
   "metadata": {},
   "outputs": [],
   "source": [
    "# Defining assays for LEU product, tails, and feed material\n",
    "# Made up values\n",
    "leu_p = 0.13\n",
    "x_f = 0.00711\n",
    "x_t = 0.002"
   ]
  },
  {
   "cell_type": "code",
   "execution_count": 15,
   "id": "55ba1038",
   "metadata": {},
   "outputs": [],
   "source": [
    "current_tails = dta.calculate_tails(current_uox['Quantity'], leu_p, x_t, x_f)\n",
    "current_feed = dta.calculate_feed(current_uox['Quantity'], current_tails)\n",
    "current_swu = dta.calculate_SWU(current_uox['Quantity'], leu_p,\n",
    "                               current_tails, x_t,\n",
    "                               current_feed, x_f)\n",
    "current_swu = current_swu.to_frame().reset_index()\n",
    "current_swu = current_swu.rename(columns={'Quantity':'SWU', 'index':'Time'})\n",
    "current_swu = dta.add_year(current_swu)"
   ]
  },
  {
   "cell_type": "code",
   "execution_count": 16,
   "id": "72792fe2",
   "metadata": {},
   "outputs": [
    {
     "data": {
      "text/plain": [
       "<matplotlib.legend.Legend at 0x7fcff1477c88>"
      ]
     },
     "execution_count": 16,
     "metadata": {},
     "output_type": "execute_result"
    },
    {
     "data": {
      "image/png": "[encoded data removed]",
      "text/plain": [
       "<Figure size 432x288 with 1 Axes>"
      ]
     },
     "metadata": {
      "needs_background": "light"
     },
     "output_type": "display_data"
    }
   ],
   "source": [
    "plt.plot(current_swu['Year'], current_swu['SWU'], '.', label='SWU', color=mycolors[0])\n",
    "\n",
    "plt.xlabel('Year')\n",
    "plt.ylabel('SWU Capacity (kg-SWU)')\n",
    "title = plt.title('SWU Capacity to enrich uranium for MMRs', pad=20)\n",
    "plt.legend()"
   ]
  },
  {
   "cell_type": "markdown",
   "id": "4b428a4a",
   "metadata": {},
   "source": [
    "## Waste Calcs"
   ]
  },
  {
   "cell_type": "code",
   "execution_count": 17,
   "id": "37174cfb",
   "metadata": {},
   "outputs": [],
   "source": [
    "spent_haleu = dta.commodity_mass_traded(current_transactions, 'spent_haleu_triso')"
   ]
  },
  {
   "cell_type": "code",
   "execution_count": 18,
   "id": "3963983d",
   "metadata": {},
   "outputs": [
    {
     "data": {
      "text/plain": [
       "<matplotlib.legend.Legend at 0x7fcff14cf9e8>"
      ]
     },
     "execution_count": 18,
     "metadata": {},
     "output_type": "execute_result"
    },
    {
     "data": {
      "image/png": "[encoded data removed]",
      "text/plain": [
       "<Figure size 432x288 with 1 Axes>"
      ]
     },
     "metadata": {
      "needs_background": "light"
     },
     "output_type": "display_data"
    }
   ],
   "source": [
    "plt.plot(spent_haleu['Year'], spent_haleu['Quantity']/1000,'.', label='Spent HALEU')\n",
    "\n",
    "plt.ylabel('Mass [t]')\n",
    "plt.xlabel('Year')\n",
    "plt.legend()"
   ]
  },
  {
   "cell_type": "code",
   "execution_count": 19,
   "id": "f73495c4",
   "metadata": {},
   "outputs": [],
   "source": [
    "w = spent_haleu.to_dict()\n",
    "\n",
    "# create the empty waste dictionary\n",
    "waste = {'Year':np.zeros(len(w['Year'])),\n",
    "        'Quantity':np.zeros(len(w['Year']))}\n",
    "\n",
    "# populate the waste dictionary with the spent_uox values\n",
    "for year in range(len(w['Year'])):\n",
    "    waste['Year'][year] = w['Year'][year]\n",
    "    waste['Quantity'][year] = w['Quantity'][year]/1000 # mass in tons\n",
    "\n",
    "# convevert the waste dictionary into masses in the format that Cask_Calcs requires\n",
    "masses = {year: quantity for year, quantity in zip(waste['Year'], waste['Quantity'])}"
   ]
  },
  {
   "cell_type": "code",
   "execution_count": 20,
   "id": "d64a8d9c",
   "metadata": {},
   "outputs": [],
   "source": [
    "# numbers are made up\n",
    "\n",
    "elements = 'prism'\n",
    "cask_vol = 12.0\n",
    "den_kernel = 2\n",
    "vol_kernel = 0.1\n",
    "mass_kernel = 0.2\n",
    "vol_triso = 1\n",
    "mass_triso = 0.4\n",
    "den_triso = 1.2\n",
    "vol_prism = 12.0\n",
    "mass_prism = 0.11\n",
    "\n",
    "casks_test = waste_calcs.Cask_Calcs(elements,  masses, cask_vol,\n",
    "                 vol_prism, mass_prism)"
   ]
  },
  {
   "cell_type": "code",
   "execution_count": 21,
   "id": "fa961d38",
   "metadata": {},
   "outputs": [],
   "source": [
    "num_casks = casks_test.calculate_casks()"
   ]
  },
  {
   "cell_type": "code",
   "execution_count": 22,
   "id": "d6cba22d",
   "metadata": {},
   "outputs": [
    {
     "data": {
      "image/png": "[encoded data removed]",
      "text/plain": [
       "<Figure size 432x288 with 2 Axes>"
      ]
     },
     "metadata": {
      "needs_background": "light"
     },
     "output_type": "display_data"
    },
    {
     "name": "stdout",
     "output_type": "stream",
     "text": [
      "With a leftover of: 0.27272727272727204\n"
     ]
    }
   ],
   "source": [
    "fig, ax1 = plt.subplots()\n",
    "\n",
    "color = mycolors[0]\n",
    "ax1.set_xlabel('Year')\n",
    "ax1.set_ylabel('Casks per Time Step [#]', color=color)\n",
    "ax1.plot(waste['Year'], num_casks[0], color=color, label='Time Step')\n",
    "ax1.tick_params(axis='y', labelcolor=color)\n",
    "\n",
    "ax2 = ax1.twinx()\n",
    "\n",
    "color = mycolors[1]\n",
    "ax2.set_ylabel('Cumulative Casks [#]', color=color)\n",
    "ax2.plot(waste['Year'], num_casks[0].cumsum(), color=color, label='Cumulative', linestyle='--')\n",
    "ax2.tick_params(axis='y', labelcolor=color)\n",
    "\n",
    "fig.tight_layout()\n",
    "fig.legend(loc='upper center', bbox_to_anchor=(0.485, 1.07), ncol=2)\n",
    "plt.show()\n",
    "print('With a leftover of:', num_casks[1][-1])"
   ]
  },
  {
   "cell_type": "code",
   "execution_count": null,
   "id": "1b1021f1",
   "metadata": {},
   "outputs": [],
   "source": []
  }
 ],
 "metadata": {
  "kernelspec": {
   "display_name": "Python 3",
   "language": "python",
   "name": "python3"
  },
  "language_info": {
   "codemirror_mode": {
    "name": "ipython",
    "version": 3
   },
   "file_extension": ".py",
   "mimetype": "text/x-python",
   "name": "python",
   "nbconvert_exporter": "python",
   "pygments_lexer": "ipython3",
   "version": "3.6.11"
  },
  "latex_envs": {
   "LaTeX_envs_menu_present": true,
   "autoclose": false,
   "autocomplete": true,
   "bibliofile": "biblio.bib",
   "cite_by": "apalike",
   "current_citInitial": 1,
   "eqLabelWithNumbers": true,
   "eqNumInitial": 1,
   "hotkeys": {
    "equation": "Ctrl-E",
    "itemize": "Ctrl-I"
   },
   "labels_anchors": false,
   "latex_user_defs": false,
   "report_style_numbering": false,
   "user_envs_cfg": false
  }
 },
 "nbformat": 4,
 "nbformat_minor": 5
}
