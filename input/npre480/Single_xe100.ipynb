{
 "cells": [
  {
   "cell_type": "code",
   "execution_count": 1,
   "id": "e3353244",
   "metadata": {},
   "outputs": [],
   "source": [
    "import numpy as np\n",
    "import pandas as pd\n",
    "import matplotlib.pyplot as plt\n",
    "import sys\n",
    "import sqlite3\n",
    "\n",
    "sys.path.insert(0, '/home/nsryan/Desktop/arfc/transition-scenarios/scripts')\n",
    "mycolors = [\"#332288\", \"#117733\", \"#44AA99\", \"#88CCEE\", \"#DDCC77\", \"#CC6677\", \"#AA4499\", \"#882255\"]\n",
    "plt.rcParams.update({'font.size': 15})"
   ]
  },
  {
   "cell_type": "code",
   "execution_count": 2,
   "id": "18e08bcc",
   "metadata": {},
   "outputs": [],
   "source": [
    "import cymetric as cym\n",
    "import transition_metrics as tm\n",
    "import dataframe_analysis as dta\n",
    "\n",
    "import waste_calcs"
   ]
  },
  {
   "cell_type": "markdown",
   "id": "c63e5099",
   "metadata": {},
   "source": [
    "## Scope\n",
    "\n",
    "This single XE-100-like simulation is to establish BOE calculations. One XE-100-like reactor is deployed in 1965 and operates for 60 years without shutting down. There is one mine, mill, conversion facility, enrichment facility, fuel fabrication facility, and repository.\n",
    "\n",
    "In this notebook, I will test each of the analyses that I will perform on multi-reactor simulations to ensure they match back-of-the-envelope calculations."
   ]
  },
  {
   "cell_type": "markdown",
   "id": "0c5c66e1",
   "metadata": {},
   "source": [
    "## Reactor Deployment"
   ]
  },
  {
   "cell_type": "code",
   "execution_count": 54,
   "id": "78c9bb33",
   "metadata": {},
   "outputs": [],
   "source": [
    "current_outfile = 'output_files/two_xe100_5.sqlite'"
   ]
  },
  {
   "cell_type": "code",
   "execution_count": 55,
   "id": "da075b3e",
   "metadata": {},
   "outputs": [],
   "source": [
    "current_xe = ['Mine', 'Sink_LLW', 'WetStorage',\n",
    "               'Enrichment', 'DryStorage', 'United States',\n",
    "               'Xe_100CoolingPool', 'FuelCycle', 'Xe_100_1', 'Xe_100_2']\n",
    "# current_xe = [\n",
    "#     'Mine', 'Sink_HLW', 'Sink_LLW', 'Enrichment', 'WetStorage', 'DryStorage', 'Xe-100CoolingPool', 'United States', 'FuelCycle'\n",
    "# ]"
   ]
  },
  {
   "cell_type": "code",
   "execution_count": 56,
   "id": "bd4b2551",
   "metadata": {},
   "outputs": [],
   "source": [
    "current_reactors = tm.get_prototype_totals(current_outfile, current_xe, ['FuelCycle'])\n",
    "current_reactors = dta.add_year(current_reactors)"
   ]
  },
  {
   "cell_type": "code",
   "execution_count": 57,
   "id": "04fd1d92",
   "metadata": {
    "scrolled": true
   },
   "outputs": [
    {
     "data": {
      "text/html": [
       "<div>\n",
       "<style scoped>\n",
       "    .dataframe tbody tr th:only-of-type {\n",
       "        vertical-align: middle;\n",
       "    }\n",
       "\n",
       "    .dataframe tbody tr th {\n",
       "        vertical-align: top;\n",
       "    }\n",
       "\n",
       "    .dataframe thead th {\n",
       "        text-align: right;\n",
       "    }\n",
       "</style>\n",
       "<table border=\"1\" class=\"dataframe\">\n",
       "  <thead>\n",
       "    <tr style=\"text-align: right;\">\n",
       "      <th>Prototype</th>\n",
       "      <th>index</th>\n",
       "      <th>Time</th>\n",
       "      <th>0</th>\n",
       "      <th>DryStorage_enter</th>\n",
       "      <th>Enrichment_enter</th>\n",
       "      <th>FuelCycle_enter</th>\n",
       "      <th>Mine_enter</th>\n",
       "      <th>Sink_LLW_enter</th>\n",
       "      <th>United States_enter</th>\n",
       "      <th>WetStorage_enter</th>\n",
       "      <th>...</th>\n",
       "      <th>Xe_100CoolingPool_exit</th>\n",
       "      <th>FuelCycle_exit</th>\n",
       "      <th>Xe_100_1_exit</th>\n",
       "      <th>Xe_100_2_exit</th>\n",
       "      <th>lwr_exit</th>\n",
       "      <th>lwr_total</th>\n",
       "      <th>Year</th>\n",
       "      <th>advrx_enter</th>\n",
       "      <th>advrx_total</th>\n",
       "      <th>FuelCycle_total</th>\n",
       "    </tr>\n",
       "  </thead>\n",
       "  <tbody>\n",
       "    <tr>\n",
       "      <th>0</th>\n",
       "      <td>0</td>\n",
       "      <td>0</td>\n",
       "      <td>0.0</td>\n",
       "      <td>1.0</td>\n",
       "      <td>5.0</td>\n",
       "      <td>1.0</td>\n",
       "      <td>5.0</td>\n",
       "      <td>1.0</td>\n",
       "      <td>1.0</td>\n",
       "      <td>1.0</td>\n",
       "      <td>...</td>\n",
       "      <td>0.0</td>\n",
       "      <td>0.0</td>\n",
       "      <td>0.0</td>\n",
       "      <td>0.0</td>\n",
       "      <td>0.0</td>\n",
       "      <td>0.0</td>\n",
       "      <td>1965.00</td>\n",
       "      <td>1.0</td>\n",
       "      <td>1.0</td>\n",
       "      <td>1.0</td>\n",
       "    </tr>\n",
       "    <tr>\n",
       "      <th>1</th>\n",
       "      <td>1</td>\n",
       "      <td>1</td>\n",
       "      <td>0.0</td>\n",
       "      <td>0.0</td>\n",
       "      <td>0.0</td>\n",
       "      <td>0.0</td>\n",
       "      <td>0.0</td>\n",
       "      <td>0.0</td>\n",
       "      <td>0.0</td>\n",
       "      <td>0.0</td>\n",
       "      <td>...</td>\n",
       "      <td>0.0</td>\n",
       "      <td>0.0</td>\n",
       "      <td>0.0</td>\n",
       "      <td>0.0</td>\n",
       "      <td>0.0</td>\n",
       "      <td>0.0</td>\n",
       "      <td>1965.08</td>\n",
       "      <td>0.0</td>\n",
       "      <td>1.0</td>\n",
       "      <td>1.0</td>\n",
       "    </tr>\n",
       "    <tr>\n",
       "      <th>2</th>\n",
       "      <td>2</td>\n",
       "      <td>2</td>\n",
       "      <td>0.0</td>\n",
       "      <td>0.0</td>\n",
       "      <td>0.0</td>\n",
       "      <td>0.0</td>\n",
       "      <td>0.0</td>\n",
       "      <td>0.0</td>\n",
       "      <td>0.0</td>\n",
       "      <td>0.0</td>\n",
       "      <td>...</td>\n",
       "      <td>0.0</td>\n",
       "      <td>0.0</td>\n",
       "      <td>0.0</td>\n",
       "      <td>0.0</td>\n",
       "      <td>0.0</td>\n",
       "      <td>0.0</td>\n",
       "      <td>1965.17</td>\n",
       "      <td>0.0</td>\n",
       "      <td>1.0</td>\n",
       "      <td>1.0</td>\n",
       "    </tr>\n",
       "    <tr>\n",
       "      <th>3</th>\n",
       "      <td>3</td>\n",
       "      <td>3</td>\n",
       "      <td>0.0</td>\n",
       "      <td>0.0</td>\n",
       "      <td>0.0</td>\n",
       "      <td>0.0</td>\n",
       "      <td>0.0</td>\n",
       "      <td>0.0</td>\n",
       "      <td>0.0</td>\n",
       "      <td>0.0</td>\n",
       "      <td>...</td>\n",
       "      <td>0.0</td>\n",
       "      <td>0.0</td>\n",
       "      <td>0.0</td>\n",
       "      <td>0.0</td>\n",
       "      <td>0.0</td>\n",
       "      <td>0.0</td>\n",
       "      <td>1965.25</td>\n",
       "      <td>0.0</td>\n",
       "      <td>1.0</td>\n",
       "      <td>1.0</td>\n",
       "    </tr>\n",
       "    <tr>\n",
       "      <th>4</th>\n",
       "      <td>4</td>\n",
       "      <td>4</td>\n",
       "      <td>0.0</td>\n",
       "      <td>0.0</td>\n",
       "      <td>0.0</td>\n",
       "      <td>0.0</td>\n",
       "      <td>0.0</td>\n",
       "      <td>0.0</td>\n",
       "      <td>0.0</td>\n",
       "      <td>0.0</td>\n",
       "      <td>...</td>\n",
       "      <td>0.0</td>\n",
       "      <td>0.0</td>\n",
       "      <td>0.0</td>\n",
       "      <td>0.0</td>\n",
       "      <td>0.0</td>\n",
       "      <td>0.0</td>\n",
       "      <td>1965.33</td>\n",
       "      <td>0.0</td>\n",
       "      <td>1.0</td>\n",
       "      <td>1.0</td>\n",
       "    </tr>\n",
       "    <tr>\n",
       "      <th>...</th>\n",
       "      <td>...</td>\n",
       "      <td>...</td>\n",
       "      <td>...</td>\n",
       "      <td>...</td>\n",
       "      <td>...</td>\n",
       "      <td>...</td>\n",
       "      <td>...</td>\n",
       "      <td>...</td>\n",
       "      <td>...</td>\n",
       "      <td>...</td>\n",
       "      <td>...</td>\n",
       "      <td>...</td>\n",
       "      <td>...</td>\n",
       "      <td>...</td>\n",
       "      <td>...</td>\n",
       "      <td>...</td>\n",
       "      <td>...</td>\n",
       "      <td>...</td>\n",
       "      <td>...</td>\n",
       "      <td>...</td>\n",
       "      <td>...</td>\n",
       "    </tr>\n",
       "    <tr>\n",
       "      <th>1495</th>\n",
       "      <td>1495</td>\n",
       "      <td>1495</td>\n",
       "      <td>0.0</td>\n",
       "      <td>0.0</td>\n",
       "      <td>0.0</td>\n",
       "      <td>0.0</td>\n",
       "      <td>0.0</td>\n",
       "      <td>0.0</td>\n",
       "      <td>0.0</td>\n",
       "      <td>0.0</td>\n",
       "      <td>...</td>\n",
       "      <td>0.0</td>\n",
       "      <td>0.0</td>\n",
       "      <td>0.0</td>\n",
       "      <td>0.0</td>\n",
       "      <td>0.0</td>\n",
       "      <td>0.0</td>\n",
       "      <td>2089.58</td>\n",
       "      <td>0.0</td>\n",
       "      <td>1.0</td>\n",
       "      <td>1.0</td>\n",
       "    </tr>\n",
       "    <tr>\n",
       "      <th>1496</th>\n",
       "      <td>1496</td>\n",
       "      <td>1496</td>\n",
       "      <td>0.0</td>\n",
       "      <td>0.0</td>\n",
       "      <td>0.0</td>\n",
       "      <td>0.0</td>\n",
       "      <td>0.0</td>\n",
       "      <td>0.0</td>\n",
       "      <td>0.0</td>\n",
       "      <td>0.0</td>\n",
       "      <td>...</td>\n",
       "      <td>0.0</td>\n",
       "      <td>0.0</td>\n",
       "      <td>0.0</td>\n",
       "      <td>0.0</td>\n",
       "      <td>0.0</td>\n",
       "      <td>0.0</td>\n",
       "      <td>2089.67</td>\n",
       "      <td>0.0</td>\n",
       "      <td>1.0</td>\n",
       "      <td>1.0</td>\n",
       "    </tr>\n",
       "    <tr>\n",
       "      <th>1497</th>\n",
       "      <td>1497</td>\n",
       "      <td>1497</td>\n",
       "      <td>0.0</td>\n",
       "      <td>0.0</td>\n",
       "      <td>0.0</td>\n",
       "      <td>0.0</td>\n",
       "      <td>0.0</td>\n",
       "      <td>0.0</td>\n",
       "      <td>0.0</td>\n",
       "      <td>0.0</td>\n",
       "      <td>...</td>\n",
       "      <td>0.0</td>\n",
       "      <td>0.0</td>\n",
       "      <td>0.0</td>\n",
       "      <td>0.0</td>\n",
       "      <td>0.0</td>\n",
       "      <td>0.0</td>\n",
       "      <td>2089.75</td>\n",
       "      <td>0.0</td>\n",
       "      <td>1.0</td>\n",
       "      <td>1.0</td>\n",
       "    </tr>\n",
       "    <tr>\n",
       "      <th>1498</th>\n",
       "      <td>1498</td>\n",
       "      <td>1498</td>\n",
       "      <td>0.0</td>\n",
       "      <td>0.0</td>\n",
       "      <td>0.0</td>\n",
       "      <td>0.0</td>\n",
       "      <td>0.0</td>\n",
       "      <td>0.0</td>\n",
       "      <td>0.0</td>\n",
       "      <td>0.0</td>\n",
       "      <td>...</td>\n",
       "      <td>0.0</td>\n",
       "      <td>0.0</td>\n",
       "      <td>0.0</td>\n",
       "      <td>0.0</td>\n",
       "      <td>0.0</td>\n",
       "      <td>0.0</td>\n",
       "      <td>2089.83</td>\n",
       "      <td>0.0</td>\n",
       "      <td>1.0</td>\n",
       "      <td>1.0</td>\n",
       "    </tr>\n",
       "    <tr>\n",
       "      <th>1499</th>\n",
       "      <td>1499</td>\n",
       "      <td>1499</td>\n",
       "      <td>0.0</td>\n",
       "      <td>0.0</td>\n",
       "      <td>0.0</td>\n",
       "      <td>0.0</td>\n",
       "      <td>0.0</td>\n",
       "      <td>0.0</td>\n",
       "      <td>0.0</td>\n",
       "      <td>0.0</td>\n",
       "      <td>...</td>\n",
       "      <td>0.0</td>\n",
       "      <td>0.0</td>\n",
       "      <td>0.0</td>\n",
       "      <td>0.0</td>\n",
       "      <td>0.0</td>\n",
       "      <td>0.0</td>\n",
       "      <td>2089.92</td>\n",
       "      <td>0.0</td>\n",
       "      <td>1.0</td>\n",
       "      <td>1.0</td>\n",
       "    </tr>\n",
       "  </tbody>\n",
       "</table>\n",
       "<p>1500 rows × 32 columns</p>\n",
       "</div>"
      ],
      "text/plain": [
       "Prototype  index  Time    0  DryStorage_enter  Enrichment_enter  \\\n",
       "0              0     0  0.0               1.0               5.0   \n",
       "1              1     1  0.0               0.0               0.0   \n",
       "2              2     2  0.0               0.0               0.0   \n",
       "3              3     3  0.0               0.0               0.0   \n",
       "4              4     4  0.0               0.0               0.0   \n",
       "...          ...   ...  ...               ...               ...   \n",
       "1495        1495  1495  0.0               0.0               0.0   \n",
       "1496        1496  1496  0.0               0.0               0.0   \n",
       "1497        1497  1497  0.0               0.0               0.0   \n",
       "1498        1498  1498  0.0               0.0               0.0   \n",
       "1499        1499  1499  0.0               0.0               0.0   \n",
       "\n",
       "Prototype  FuelCycle_enter  Mine_enter  Sink_LLW_enter  United States_enter  \\\n",
       "0                      1.0         5.0             1.0                  1.0   \n",
       "1                      0.0         0.0             0.0                  0.0   \n",
       "2                      0.0         0.0             0.0                  0.0   \n",
       "3                      0.0         0.0             0.0                  0.0   \n",
       "4                      0.0         0.0             0.0                  0.0   \n",
       "...                    ...         ...             ...                  ...   \n",
       "1495                   0.0         0.0             0.0                  0.0   \n",
       "1496                   0.0         0.0             0.0                  0.0   \n",
       "1497                   0.0         0.0             0.0                  0.0   \n",
       "1498                   0.0         0.0             0.0                  0.0   \n",
       "1499                   0.0         0.0             0.0                  0.0   \n",
       "\n",
       "Prototype  WetStorage_enter  ...  Xe_100CoolingPool_exit  FuelCycle_exit  \\\n",
       "0                       1.0  ...                     0.0             0.0   \n",
       "1                       0.0  ...                     0.0             0.0   \n",
       "2                       0.0  ...                     0.0             0.0   \n",
       "3                       0.0  ...                     0.0             0.0   \n",
       "4                       0.0  ...                     0.0             0.0   \n",
       "...                     ...  ...                     ...             ...   \n",
       "1495                    0.0  ...                     0.0             0.0   \n",
       "1496                    0.0  ...                     0.0             0.0   \n",
       "1497                    0.0  ...                     0.0             0.0   \n",
       "1498                    0.0  ...                     0.0             0.0   \n",
       "1499                    0.0  ...                     0.0             0.0   \n",
       "\n",
       "Prototype  Xe_100_1_exit  Xe_100_2_exit  lwr_exit  lwr_total     Year  \\\n",
       "0                    0.0            0.0       0.0        0.0  1965.00   \n",
       "1                    0.0            0.0       0.0        0.0  1965.08   \n",
       "2                    0.0            0.0       0.0        0.0  1965.17   \n",
       "3                    0.0            0.0       0.0        0.0  1965.25   \n",
       "4                    0.0            0.0       0.0        0.0  1965.33   \n",
       "...                  ...            ...       ...        ...      ...   \n",
       "1495                 0.0            0.0       0.0        0.0  2089.58   \n",
       "1496                 0.0            0.0       0.0        0.0  2089.67   \n",
       "1497                 0.0            0.0       0.0        0.0  2089.75   \n",
       "1498                 0.0            0.0       0.0        0.0  2089.83   \n",
       "1499                 0.0            0.0       0.0        0.0  2089.92   \n",
       "\n",
       "Prototype  advrx_enter  advrx_total  FuelCycle_total  \n",
       "0                  1.0          1.0              1.0  \n",
       "1                  0.0          1.0              1.0  \n",
       "2                  0.0          1.0              1.0  \n",
       "3                  0.0          1.0              1.0  \n",
       "4                  0.0          1.0              1.0  \n",
       "...                ...          ...              ...  \n",
       "1495               0.0          1.0              1.0  \n",
       "1496               0.0          1.0              1.0  \n",
       "1497               0.0          1.0              1.0  \n",
       "1498               0.0          1.0              1.0  \n",
       "1499               0.0          1.0              1.0  \n",
       "\n",
       "[1500 rows x 32 columns]"
      ]
     },
     "execution_count": 57,
     "metadata": {},
     "output_type": "execute_result"
    }
   ],
   "source": [
    "current_reactors"
   ]
  },
  {
   "cell_type": "code",
   "execution_count": 59,
   "id": "d8832b93",
   "metadata": {},
   "outputs": [
    {
     "data": {
      "text/plain": [
       "1.0"
      ]
     },
     "execution_count": 59,
     "metadata": {},
     "output_type": "execute_result"
    }
   ],
   "source": [
    "min(current_reactors['FuelCycle_total'])"
   ]
  },
  {
   "cell_type": "code",
   "execution_count": 60,
   "id": "0c4c28d7",
   "metadata": {},
   "outputs": [
    {
     "data": {
      "text/plain": [
       "<matplotlib.legend.Legend at 0x7f65fb1e50b8>"
      ]
     },
     "execution_count": 60,
     "metadata": {},
     "output_type": "execute_result"
    },
    {
     "data": {
      "image/png": "[encoded data removed]",
      "text/plain": [
       "<Figure size 432x288 with 1 Axes>"
      ]
     },
     "metadata": {
      "needs_background": "light"
     },
     "output_type": "display_data"
    }
   ],
   "source": [
    "plt.plot(current_reactors['Year'], current_reactors['FuelCycle_total'],'.', label='XE-100s', color=mycolors[0])\n",
    "plt.title('Number of Reactors Deployed')\n",
    "plt.xlabel('Year')\n",
    "plt.ylabel('Reactors [#]')\n",
    "plt.legend()"
   ]
  },
  {
   "cell_type": "markdown",
   "id": "3f917736",
   "metadata": {},
   "source": [
    "## Energy Output"
   ]
  },
  {
   "cell_type": "code",
   "execution_count": 61,
   "id": "69a0ade8",
   "metadata": {},
   "outputs": [],
   "source": [
    "current_energy = tm.get_annual_electricity(current_outfile)"
   ]
  },
  {
   "cell_type": "code",
   "execution_count": 62,
   "id": "97102004",
   "metadata": {},
   "outputs": [
    {
     "data": {
      "text/html": [
       "<div>\n",
       "<style scoped>\n",
       "    .dataframe tbody tr th:only-of-type {\n",
       "        vertical-align: middle;\n",
       "    }\n",
       "\n",
       "    .dataframe tbody tr th {\n",
       "        vertical-align: top;\n",
       "    }\n",
       "\n",
       "    .dataframe thead th {\n",
       "        text-align: right;\n",
       "    }\n",
       "</style>\n",
       "<table border=\"1\" class=\"dataframe\">\n",
       "  <thead>\n",
       "    <tr style=\"text-align: right;\">\n",
       "      <th></th>\n",
       "      <th>Year</th>\n",
       "      <th>Energy</th>\n",
       "    </tr>\n",
       "  </thead>\n",
       "  <tbody>\n",
       "    <tr>\n",
       "      <th>0</th>\n",
       "      <td>1965</td>\n",
       "      <td>0.013333</td>\n",
       "    </tr>\n",
       "    <tr>\n",
       "      <th>1</th>\n",
       "      <td>1966</td>\n",
       "      <td>0.066667</td>\n",
       "    </tr>\n",
       "    <tr>\n",
       "      <th>2</th>\n",
       "      <td>1967</td>\n",
       "      <td>0.073333</td>\n",
       "    </tr>\n",
       "    <tr>\n",
       "      <th>3</th>\n",
       "      <td>1968</td>\n",
       "      <td>0.066667</td>\n",
       "    </tr>\n",
       "    <tr>\n",
       "      <th>4</th>\n",
       "      <td>1969</td>\n",
       "      <td>0.066667</td>\n",
       "    </tr>\n",
       "    <tr>\n",
       "      <th>...</th>\n",
       "      <td>...</td>\n",
       "      <td>...</td>\n",
       "    </tr>\n",
       "    <tr>\n",
       "      <th>56</th>\n",
       "      <td>2021</td>\n",
       "      <td>0.066667</td>\n",
       "    </tr>\n",
       "    <tr>\n",
       "      <th>57</th>\n",
       "      <td>2022</td>\n",
       "      <td>0.066667</td>\n",
       "    </tr>\n",
       "    <tr>\n",
       "      <th>58</th>\n",
       "      <td>2023</td>\n",
       "      <td>0.073333</td>\n",
       "    </tr>\n",
       "    <tr>\n",
       "      <th>59</th>\n",
       "      <td>2024</td>\n",
       "      <td>0.066667</td>\n",
       "    </tr>\n",
       "    <tr>\n",
       "      <th>60</th>\n",
       "      <td>2025</td>\n",
       "      <td>0.060000</td>\n",
       "    </tr>\n",
       "  </tbody>\n",
       "</table>\n",
       "<p>61 rows × 2 columns</p>\n",
       "</div>"
      ],
      "text/plain": [
       "    Year    Energy\n",
       "0   1965  0.013333\n",
       "1   1966  0.066667\n",
       "2   1967  0.073333\n",
       "3   1968  0.066667\n",
       "4   1969  0.066667\n",
       "..   ...       ...\n",
       "56  2021  0.066667\n",
       "57  2022  0.066667\n",
       "58  2023  0.073333\n",
       "59  2024  0.066667\n",
       "60  2025  0.060000\n",
       "\n",
       "[61 rows x 2 columns]"
      ]
     },
     "execution_count": 62,
     "metadata": {},
     "output_type": "execute_result"
    }
   ],
   "source": [
    "current_energy"
   ]
  },
  {
   "cell_type": "code",
   "execution_count": 63,
   "id": "da7182e7",
   "metadata": {},
   "outputs": [
    {
     "data": {
      "text/plain": [
       "<matplotlib.legend.Legend at 0x7f65fb1b8358>"
      ]
     },
     "execution_count": 63,
     "metadata": {},
     "output_type": "execute_result"
    },
    {
     "data": {
      "image/png": "[encoded data removed]",
      "text/plain": [
       "<Figure size 432x288 with 1 Axes>"
      ]
     },
     "metadata": {
      "needs_background": "light"
     },
     "output_type": "display_data"
    }
   ],
   "source": [
    "# Plot the yearly energy\n",
    "\n",
    "plt.plot(current_energy['Year'], current_energy['Energy'],'.', label='XE-100', color=mycolors[0])\n",
    "\n",
    "plt.title('Energy Generation Each Year')\n",
    "plt.xlabel('Year')\n",
    "plt.ylabel('Energy (GWe-y)')\n",
    "plt.legend()"
   ]
  },
  {
   "cell_type": "markdown",
   "id": "5d9766b6",
   "metadata": {},
   "source": [
    "## Material Transactions"
   ]
  },
  {
   "cell_type": "code",
   "execution_count": 64,
   "id": "9fa52c65",
   "metadata": {},
   "outputs": [],
   "source": [
    "current_transactions = tm.add_receiver_prototype(current_outfile)"
   ]
  },
  {
   "cell_type": "code",
   "execution_count": 65,
   "id": "2e976265",
   "metadata": {},
   "outputs": [],
   "source": [
    "current_triso_xe = dta.commodity_mass_traded(current_transactions, 'fresh_uox')"
   ]
  },
  {
   "cell_type": "code",
   "execution_count": 66,
   "id": "a89a385a",
   "metadata": {
    "scrolled": false
   },
   "outputs": [
    {
     "name": "stdout",
     "output_type": "stream",
     "text": [
      "Maximum mass: 1.7508679999999999\n",
      "Total mass: 0        0.000000\n",
      "1        0.000000\n",
      "2        0.000000\n",
      "3        0.000000\n",
      "4        0.000000\n",
      "          ...    \n",
      "1495    27.263516\n",
      "1496    27.263516\n",
      "1497    27.263516\n",
      "1498    27.263516\n",
      "1499    27.263516\n",
      "Name: Quantity, Length: 1500, dtype: float64\n"
     ]
    },
    {
     "data": {
      "image/png": "[encoded data removed]",
      "text/plain": [
       "<Figure size 432x288 with 1 Axes>"
      ]
     },
     "metadata": {
      "needs_background": "light"
     },
     "output_type": "display_data"
    }
   ],
   "source": [
    "# Comparing fresh_uox transactions to all reactors\n",
    "\n",
    "plt.plot(current_triso_xe['Year'], current_triso_xe['Quantity']/1000,'.',\n",
    "         label='XE-100s', color=mycolors[0])\n",
    "plt.legend() #(loc=2)\n",
    "plt.ylabel('Mass (t)')\n",
    "plt.xlabel('Year')\n",
    "plt.title('Mass of Fuel supplied')\n",
    "\n",
    "print('Maximum mass:',max(current_triso_xe['Quantity']/1000))\n",
    "print('Total mass:',current_triso_xe['Quantity'].cumsum()/1000)"
   ]
  },
  {
   "cell_type": "code",
   "execution_count": 53,
   "id": "9a1f826a",
   "metadata": {},
   "outputs": [
    {
     "data": {
      "text/plain": [
       "Text(0.5, 1.0, 'Cumulative Mass of TRISO supplied')"
      ]
     },
     "execution_count": 53,
     "metadata": {},
     "output_type": "execute_result"
    },
    {
     "data": {
      "image/png": "[encoded data removed]",
      "text/plain": [
       "<Figure size 432x288 with 1 Axes>"
      ]
     },
     "metadata": {
      "needs_background": "light"
     },
     "output_type": "display_data"
    }
   ],
   "source": [
    "plt.plot(current_triso_xe['Year'], current_triso_xe['Quantity'].cumsum()/1000,'.',\n",
    "         label='XE-100s', color=mycolors[0])\n",
    "plt.legend()\n",
    "plt.ylabel('Mass (t)')\n",
    "plt.xlabel('Year')\n",
    "plt.title('Cumulative Mass of TRISO supplied')"
   ]
  },
  {
   "cell_type": "markdown",
   "id": "49c36be7",
   "metadata": {},
   "source": [
    "## SWU Calcs\n",
    "SWU = $(P*V(x_p) + T*V(x_t) - F*V(x_f))*t$\n",
    "\n",
    "V($x_i$) = $(2*x_i-1)*\\ln(x_i/(1-x_i))$"
   ]
  },
  {
   "cell_type": "code",
   "execution_count": 31,
   "id": "dfc227e9",
   "metadata": {},
   "outputs": [],
   "source": [
    "# Defining assays for LEU product, tails, and feed material\n",
    "# Made up values\n",
    "leu_p = 0.155\n",
    "x_f = 0.00711\n",
    "x_t = 0.002"
   ]
  },
  {
   "cell_type": "code",
   "execution_count": 32,
   "id": "55ba1038",
   "metadata": {},
   "outputs": [],
   "source": [
    "current_tails = dta.calculate_tails(current_triso_xe['Quantity'], leu_p, x_t, x_f)\n",
    "current_feed = dta.calculate_feed(current_triso_xe['Quantity'], current_tails)\n",
    "current_swu = dta.calculate_SWU(current_triso_xe['Quantity'], leu_p,\n",
    "                               current_tails, x_t,\n",
    "                               current_feed, x_f)\n",
    "current_swu = current_swu.to_frame().reset_index()\n",
    "current_swu = current_swu.rename(columns={'Quantity':'SWU', 'index':'Time'})\n",
    "current_swu = dta.add_year(current_swu)"
   ]
  },
  {
   "cell_type": "code",
   "execution_count": 33,
   "id": "72792fe2",
   "metadata": {},
   "outputs": [
    {
     "data": {
      "text/plain": [
       "<matplotlib.legend.Legend at 0x7ff5167155c0>"
      ]
     },
     "execution_count": 33,
     "metadata": {},
     "output_type": "execute_result"
    },
    {
     "data": {
      "image/png": "[encoded data removed]",
      "text/plain": [
       "<Figure size 432x288 with 1 Axes>"
      ]
     },
     "metadata": {
      "needs_background": "light"
     },
     "output_type": "display_data"
    }
   ],
   "source": [
    "plt.plot(current_swu['Year'], current_swu['SWU'], '.', label='SWU', color=mycolors[0])\n",
    "\n",
    "plt.xlabel('Year')\n",
    "plt.ylabel('SWU Capacity (kg-SWU)')\n",
    "title = plt.title('SWU Capacity to enrich uranium for XE-100s', pad=20)\n",
    "plt.legend()"
   ]
  },
  {
   "cell_type": "markdown",
   "id": "4b428a4a",
   "metadata": {},
   "source": [
    "## Waste Calcs"
   ]
  },
  {
   "cell_type": "code",
   "execution_count": 34,
   "id": "37174cfb",
   "metadata": {},
   "outputs": [],
   "source": [
    "spent_triso = dta.commodity_mass_traded(current_transactions, 'spent_triso_xe')"
   ]
  },
  {
   "cell_type": "code",
   "execution_count": 35,
   "id": "508514c6",
   "metadata": {},
   "outputs": [
    {
     "data": {
      "text/plain": [
       "'fresh_triso_xe'"
      ]
     },
     "execution_count": 35,
     "metadata": {},
     "output_type": "execute_result"
    }
   ],
   "source": [
    "current_transactions['Commodity'][9]"
   ]
  },
  {
   "cell_type": "code",
   "execution_count": 42,
   "id": "76efe798",
   "metadata": {},
   "outputs": [
    {
     "ename": "TypeError",
     "evalue": "argument of type 'type' is not iterable",
     "output_type": "error",
     "traceback": [
      "\u001b[0;31m---------------------------------------------------------------------------\u001b[0m",
      "\u001b[0;31mTypeError\u001b[0m                                 Traceback (most recent call last)",
      "\u001b[0;32m<ipython-input-42-ba8b81c1b473>\u001b[0m in \u001b[0;36m<module>\u001b[0;34m\u001b[0m\n\u001b[1;32m      2\u001b[0m \u001b[0;32mfor\u001b[0m \u001b[0mitem\u001b[0m \u001b[0;32min\u001b[0m \u001b[0mrange\u001b[0m\u001b[0;34m(\u001b[0m\u001b[0mlen\u001b[0m\u001b[0;34m(\u001b[0m\u001b[0mcurrent_transactions\u001b[0m\u001b[0;34m[\u001b[0m\u001b[0;34m'Commodity'\u001b[0m\u001b[0;34m]\u001b[0m\u001b[0;34m)\u001b[0m\u001b[0;34m)\u001b[0m\u001b[0;34m:\u001b[0m\u001b[0;34m\u001b[0m\u001b[0;34m\u001b[0m\u001b[0m\n\u001b[1;32m      3\u001b[0m     \u001b[0mit\u001b[0m \u001b[0;34m=\u001b[0m \u001b[0mcurrent_transactions\u001b[0m\u001b[0;34m[\u001b[0m\u001b[0;34m'Commodity'\u001b[0m\u001b[0;34m]\u001b[0m\u001b[0;34m[\u001b[0m\u001b[0mitem\u001b[0m\u001b[0;34m]\u001b[0m\u001b[0;34m\u001b[0m\u001b[0;34m\u001b[0m\u001b[0m\n\u001b[0;32m----> 4\u001b[0;31m     \u001b[0;32mif\u001b[0m \u001b[0mit\u001b[0m \u001b[0;32min\u001b[0m \u001b[0mlist\u001b[0m\u001b[0;34m:\u001b[0m\u001b[0;34m\u001b[0m\u001b[0;34m\u001b[0m\u001b[0m\n\u001b[0m\u001b[1;32m      5\u001b[0m         \u001b[0;32mpass\u001b[0m\u001b[0;34m\u001b[0m\u001b[0;34m\u001b[0m\u001b[0m\n\u001b[1;32m      6\u001b[0m     \u001b[0;32melse\u001b[0m\u001b[0;34m:\u001b[0m\u001b[0;34m\u001b[0m\u001b[0;34m\u001b[0m\u001b[0m\n",
      "\u001b[0;31mTypeError\u001b[0m: argument of type 'type' is not iterable"
     ]
    }
   ],
   "source": [
    "lists = []\n",
    "for item in range(len(current_transactions['Commodity'])):\n",
    "    it = current_transactions['Commodity'][item]\n",
    "    if it in list:\n",
    "        pass\n",
    "    else:\n",
    "        lists.append(it)\n",
    "print(lists)"
   ]
  },
  {
   "cell_type": "code",
   "execution_count": 43,
   "id": "3963983d",
   "metadata": {},
   "outputs": [
    {
     "data": {
      "text/plain": [
       "<matplotlib.legend.Legend at 0x7ff516497eb8>"
      ]
     },
     "execution_count": 43,
     "metadata": {},
     "output_type": "execute_result"
    },
    {
     "data": {
      "image/png": "[encoded data removed]",
      "text/plain": [
       "<Figure size 432x288 with 1 Axes>"
      ]
     },
     "metadata": {
      "needs_background": "light"
     },
     "output_type": "display_data"
    }
   ],
   "source": [
    "plt.plot(spent_triso['Year'], spent_triso['Quantity']/1000,'.', label='Spent TRISO')\n",
    "\n",
    "plt.ylabel('Mass [t]')\n",
    "plt.xlabel('Year')\n",
    "plt.legend()"
   ]
  },
  {
   "cell_type": "code",
   "execution_count": 38,
   "id": "f73495c4",
   "metadata": {},
   "outputs": [],
   "source": [
    "w = spent_triso.to_dict()\n",
    "\n",
    "# create the empty waste dictionary\n",
    "waste = {'Year':np.zeros(len(w['Year'])),\n",
    "        'Quantity':np.zeros(len(w['Year']))}\n",
    "\n",
    "# populate the waste dictionary with the spent_uox values\n",
    "for year in range(len(w['Year'])):\n",
    "    waste['Year'][year] = w['Year'][year]\n",
    "    waste['Quantity'][year] = w['Quantity'][year]/1000 # mass in tons\n",
    "\n",
    "# convevert the waste dictionary into masses in the format that Cask_Calcs requires\n",
    "masses = {year: quantity for year, quantity in zip(waste['Year'], waste['Quantity'])}"
   ]
  },
  {
   "cell_type": "code",
   "execution_count": 39,
   "id": "d64a8d9c",
   "metadata": {},
   "outputs": [],
   "source": [
    "# numbers are made up\n",
    "\n",
    "elements = 'prism'\n",
    "cask_vol = 12.0\n",
    "den_kernel = 2\n",
    "vol_kernel = 0.1\n",
    "mass_kernel = 0.2\n",
    "vol_triso = 1\n",
    "mass_triso = 0.4\n",
    "den_triso = 1.2\n",
    "vol_prism = 12.0\n",
    "mass_prism = 0.11\n",
    "\n",
    "casks_test = waste_calcs.Cask_Calcs(elements,  masses, cask_vol,\n",
    "                 vol_prism, mass_prism)"
   ]
  },
  {
   "cell_type": "code",
   "execution_count": 40,
   "id": "fa961d38",
   "metadata": {},
   "outputs": [],
   "source": [
    "num_casks = casks_test.calculate_casks()"
   ]
  },
  {
   "cell_type": "code",
   "execution_count": 41,
   "id": "d6cba22d",
   "metadata": {},
   "outputs": [
    {
     "data": {
      "image/png": "[encoded data removed]",
      "text/plain": [
       "<Figure size 432x288 with 2 Axes>"
      ]
     },
     "metadata": {
      "needs_background": "light"
     },
     "output_type": "display_data"
    },
    {
     "name": "stdout",
     "output_type": "stream",
     "text": [
      "With a leftover of: 0.0\n"
     ]
    }
   ],
   "source": [
    "fig, ax1 = plt.subplots()\n",
    "\n",
    "color = mycolors[0]\n",
    "ax1.set_xlabel('Year')\n",
    "ax1.set_ylabel('Casks per Time Step [#]', color=color)\n",
    "ax1.plot(waste['Year'], num_casks[0], color=color, label='Time Step')\n",
    "ax1.tick_params(axis='y', labelcolor=color)\n",
    "\n",
    "ax2 = ax1.twinx()\n",
    "\n",
    "color = mycolors[1]\n",
    "ax2.set_ylabel('Cumulative Casks [#]', color=color)\n",
    "ax2.plot(waste['Year'], num_casks[0].cumsum(), color=color, label='Cumulative', linestyle='--')\n",
    "ax2.tick_params(axis='y', labelcolor=color)\n",
    "\n",
    "fig.tight_layout()\n",
    "fig.legend(loc='upper center', bbox_to_anchor=(0.485, 1.07), ncol=2)\n",
    "plt.show()\n",
    "print('With a leftover of:', num_casks[1][-1])"
   ]
  },
  {
   "cell_type": "code",
   "execution_count": null,
   "id": "1b1021f1",
   "metadata": {},
   "outputs": [],
   "source": []
  }
 ],
 "metadata": {
  "kernelspec": {
   "display_name": "Python 3",
   "language": "python",
   "name": "python3"
  },
  "language_info": {
   "codemirror_mode": {
    "name": "ipython",
    "version": 3
   },
   "file_extension": ".py",
   "mimetype": "text/x-python",
   "name": "python",
   "nbconvert_exporter": "python",
   "pygments_lexer": "ipython3",
   "version": "3.6.11"
  },
  "latex_envs": {
   "LaTeX_envs_menu_present": true,
   "autoclose": false,
   "autocomplete": true,
   "bibliofile": "biblio.bib",
   "cite_by": "apalike",
   "current_citInitial": 1,
   "eqLabelWithNumbers": true,
   "eqNumInitial": 1,
   "hotkeys": {
    "equation": "Ctrl-E",
    "itemize": "Ctrl-I"
   },
   "labels_anchors": false,
   "latex_user_defs": false,
   "report_style_numbering": false,
   "user_envs_cfg": false
  }
 },
 "nbformat": 4,
 "nbformat_minor": 5
}
