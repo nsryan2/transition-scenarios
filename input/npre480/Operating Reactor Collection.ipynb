{
 "cells": [
  {
   "cell_type": "code",
   "execution_count": 155,
   "id": "d3e8b3ac",
   "metadata": {},
   "outputs": [],
   "source": [
    "import pandas as pd\n",
    "import numpy as np\n",
    "import matplotlib.pyplot as plt\n",
    "from tabulate import tabulate\n",
    "import pprint\n",
    "import sqlite3\n",
    "from collections import defaultdict\n",
    "import math"
   ]
  },
  {
   "cell_type": "markdown",
   "id": "94fa3977",
   "metadata": {},
   "source": [
    "## Operating Reactors"
   ]
  },
  {
   "cell_type": "code",
   "execution_count": 2,
   "id": "45ad083b",
   "metadata": {},
   "outputs": [],
   "source": [
    "table = pd.read_html('https://www.eia.gov/nuclear/spent_fuel/ussnftab2.php')"
   ]
  },
  {
   "cell_type": "code",
   "execution_count": 3,
   "id": "a083395a",
   "metadata": {},
   "outputs": [],
   "source": [
    "long = table[0].to_dict()\n",
    "# pp = pprint.PrettyPrinter(indent=8)\n",
    "# pp.pprint(long)"
   ]
  },
  {
   "cell_type": "code",
   "execution_count": 4,
   "id": "eabedafc",
   "metadata": {},
   "outputs": [],
   "source": [
    "cols = ['Actual retirement (year)', 'Core size (number of assemblies)', \n",
    "        'License expiration (year)', 'Reactor name',\n",
    "        'Reactor type', 'Reactor vendora',\n",
    "        'Startup date (year) b', 'State']\n",
    "ac_re = []\n",
    "core = []\n",
    "lic = []\n",
    "reac = []\n",
    "re_ty = []\n",
    "re_ven = []\n",
    "start = []\n",
    "state = []\n",
    "\n",
    "for i in range(0, 119):\n",
    "    ac_re.append(long['Actual retirement (year)'][i])\n",
    "    core.append(long['Core size (number of assemblies)'][i])\n",
    "    lic.append(long['License expiration (year)'][i])\n",
    "    reac.append(long['Reactor name'][i])\n",
    "    re_ty.append(long['Reactor type'][i])\n",
    "    re_ven.append(long['Reactor vendora'][i])\n",
    "    start.append(long['Startup date (year) b'][i])\n",
    "    state.append(long['State'][i])\n",
    "\n",
    "us_reactors = {'Reactor Name': reac,\n",
    "               'Reactor type': re_ty,\n",
    "               'Reactor Vendor': re_ven,\n",
    "               'State':state,\n",
    "               'Startup (year)': start,\n",
    "               'Retirement (year)':ac_re,\n",
    "               'License Expiration (year)': lic,\n",
    "               'Core Size (# assemblies)': core,\n",
    "}"
   ]
  },
  {
   "cell_type": "code",
   "execution_count": 5,
   "id": "6beadf5a",
   "metadata": {},
   "outputs": [],
   "source": [
    "ac_re[33] = '2020'\n",
    "ac_re[48] = '2020'\n",
    "ac_re[78] = '2019'\n",
    "ac_re[105]= '2019'"
   ]
  },
  {
   "cell_type": "code",
   "execution_count": 6,
   "id": "086e4a7d",
   "metadata": {},
   "outputs": [],
   "source": [
    "mod_year = np.zeros(len(start)) # have the expiration year be 80 years after start, or the actual retirement if that already happened\n",
    "for i in range(len(start)):\n",
    "    modified_year = int(start[i]) + 80\n",
    "    if type(ac_re[i]) == float:\n",
    "        mod_year[i] = modified_year\n",
    "    else:\n",
    "        mod_year[i] = int(ac_re[i])"
   ]
  },
  {
   "cell_type": "code",
   "execution_count": 7,
   "id": "87fcca14",
   "metadata": {},
   "outputs": [
    {
     "data": {
      "text/plain": [
       "array([2054., 2058., 2056., 2067., 1997., 2067., 2068., 2053., 2054.,\n",
       "       2056., 2056., 2054., 2065., 2067., 2064., 2054., 2056., 2065.,\n",
       "       2066., 2067., 2064., 2070., 2073., 2054., 2057., 2054., 2013.,\n",
       "       2057., 2064., 2065., 1978., 2049., 2051., 2020., 2065., 2057.,\n",
       "       2061., 2054., 2016., 2049., 2064., 1996., 2066., 2054., 2058.,\n",
       "       2066., 1976., 1974., 2020., 2055., 2013., 1987., 2062., 2063.,\n",
       "       2065., 2069., 1996., 2061., 2063., 1998., 2055., 2066., 2050.,\n",
       "       2049., 2067., 2058., 2060., 2053., 2053., 2054., 2018., 2051.,\n",
       "       2065., 2066., 2067., 2053., 2054., 2066., 2019., 2050., 2051.,\n",
       "       2053., 2054., 2052., 2052., 1989., 2065., 2050., 2056., 2061.,\n",
       "       1992., 2013., 2013., 2070., 2060., 2061., 2068., 2069., 2056.,\n",
       "       2063., 2062., 2052., 2053., 2062., 2064., 2019., 1992., 2052.,\n",
       "       2053., 2014., 2067., 2069., 2065., 2076., 2096., 2065., 1991.,\n",
       "       1997., 1996.])"
      ]
     },
     "execution_count": 7,
     "metadata": {},
     "output_type": "execute_result"
    }
   ],
   "source": [
    "mod_year"
   ]
  },
  {
   "cell_type": "code",
   "execution_count": 8,
   "id": "d185c7dc",
   "metadata": {},
   "outputs": [],
   "source": [
    "# power cap of each of the LWR reactors minus 'Indian Point 1', 'Big Rock Point', 'Dresden 1','Yankee Rowe'\n",
    "pc = [836, 998, 908, 905, 1194, 1160, 1200, 1200, 1210, 938, 932, 1164, 1136, 1215, 877, 855, 1160, 1150, 1062, 1131, 1205, 1195, 1030, 1168, 769, 860, 894, 1138, 1118, 894, 879, 601, 874, 883, 1115, 813, 482, 560, 1401, 560, 964, 876, 883, 1172, 998, 1030, 566, 1137, 1140, 1134, 1134, 860, 1158, 1158, 641, 869, 1210, 628, 613, 1277, 948, 944, 847, 848, 859, 619, 805, 1311, 1314, 1312, 1300, 1331, 1240, 677, 591, 591, 522, 519, 908, 911, 873, 967, 741, 1169, 1158, 436, 1070, 1080, 1246, 1152, 1139, 820, 1280, 1280, 981, 987, 973, 838, 838, 1257, 1257, 819, 880, 1095, 837, 821, 605, 1150, 1152, 1168, 1157, 1164, 1200, 1040, 1040]"
   ]
  },
  {
   "cell_type": "code",
   "execution_count": 9,
   "id": "4f0ee6c0",
   "metadata": {},
   "outputs": [
    {
     "name": "stdout",
     "output_type": "stream",
     "text": [
      "47\n",
      "4\n",
      "30\n",
      "116\n"
     ]
    }
   ],
   "source": [
    "print(reac.index('Indian Point 1'))\n",
    "print(reac.index('Big Rock Point'))\n",
    "print(reac.index('Dresden 1'))\n",
    "print(reac.index('Yankee Rowe'))"
   ]
  },
  {
   "cell_type": "code",
   "execution_count": 10,
   "id": "42916b18",
   "metadata": {},
   "outputs": [
    {
     "data": {
      "text/plain": [
       "115"
      ]
     },
     "execution_count": 10,
     "metadata": {},
     "output_type": "execute_result"
    }
   ],
   "source": [
    "mod_sim_years = mod_year.copy().tolist()\n",
    "del mod_sim_years[116]\n",
    "del mod_sim_years[47]\n",
    "del mod_sim_years[30]\n",
    "del mod_sim_years[4]\n",
    "len(mod_sim_years)"
   ]
  },
  {
   "cell_type": "code",
   "execution_count": 11,
   "id": "2cf8ceae",
   "metadata": {},
   "outputs": [],
   "source": [
    "yearly_need = defaultdict(int)\n",
    "for year, power in zip(mod_sim_years, pc):\n",
    "    yearly_need[year] += power"
   ]
  },
  {
   "cell_type": "code",
   "execution_count": 12,
   "id": "d0afde65",
   "metadata": {},
   "outputs": [],
   "source": [
    "yearly_need = {2054: 9726,\n",
    "             2058: 2728,\n",
    "             2056: 5334,\n",
    "             2067: 7722,\n",
    "             2068: 2440,\n",
    "             2053: 6904,\n",
    "             2065: 10025,\n",
    "             2064: 5704,\n",
    "             2066: 5790,\n",
    "             2070: 2344,\n",
    "             2073: 1195,\n",
    "             2057: 2945,\n",
    "             2013: 4395,\n",
    "             2049: 2402,\n",
    "             2051: 2712,\n",
    "             2020: 1631,\n",
    "             2061: 4106,\n",
    "             2016: 482,\n",
    "             1996: 2758,\n",
    "             1976: 998,\n",
    "             2055: 1194,\n",
    "             1987: 1140,\n",
    "             2062: 3229,\n",
    "             2063: 2976,\n",
    "             2069: 3291,\n",
    "             1998: 1210,\n",
    "             2050: 2957,\n",
    "             2060: 1668,\n",
    "             2018: 1311,\n",
    "             2019: 1471,\n",
    "             2052: 3515,\n",
    "             1989: 741,\n",
    "             1992: 2175,\n",
    "             2014: 605,\n",
    "             2076: 1157,\n",
    "             2096: 1164,\n",
    "             1997: 1040}"
   ]
  },
  {
   "cell_type": "code",
   "execution_count": 13,
   "id": "aafd91c7",
   "metadata": {},
   "outputs": [],
   "source": [
    "sorted_yearly_need = dict(sorted(yearly_need.items()))"
   ]
  },
  {
   "cell_type": "code",
   "execution_count": 14,
   "id": "78009667",
   "metadata": {
    "scrolled": true
   },
   "outputs": [
    {
     "data": {
      "text/plain": [
       "{1976: 998,\n",
       " 1987: 1140,\n",
       " 1989: 741,\n",
       " 1992: 2175,\n",
       " 1996: 2758,\n",
       " 1997: 1040,\n",
       " 1998: 1210,\n",
       " 2013: 4395,\n",
       " 2014: 605,\n",
       " 2016: 482,\n",
       " 2018: 1311,\n",
       " 2019: 1471,\n",
       " 2020: 1631,\n",
       " 2049: 2402,\n",
       " 2050: 2957,\n",
       " 2051: 2712,\n",
       " 2052: 3515,\n",
       " 2053: 6904,\n",
       " 2054: 9726,\n",
       " 2055: 1194,\n",
       " 2056: 5334,\n",
       " 2057: 2945,\n",
       " 2058: 2728,\n",
       " 2060: 1668,\n",
       " 2061: 4106,\n",
       " 2062: 3229,\n",
       " 2063: 2976,\n",
       " 2064: 5704,\n",
       " 2065: 10025,\n",
       " 2066: 5790,\n",
       " 2067: 7722,\n",
       " 2068: 2440,\n",
       " 2069: 3291,\n",
       " 2070: 2344,\n",
       " 2073: 1195,\n",
       " 2076: 1157,\n",
       " 2096: 1164}"
      ]
     },
     "execution_count": 14,
     "metadata": {},
     "output_type": "execute_result"
    }
   ],
   "source": [
    "sorted_yearly_need"
   ]
  },
  {
   "cell_type": "code",
   "execution_count": 15,
   "id": "9a881448",
   "metadata": {
    "scrolled": true
   },
   "outputs": [
    {
     "data": {
      "text/plain": [
       "{1976: 13,\n",
       " 1987: 15,\n",
       " 1989: 10,\n",
       " 1992: 28,\n",
       " 1996: 35,\n",
       " 1997: 13,\n",
       " 1998: 16,\n",
       " 2013: 55,\n",
       " 2014: 8,\n",
       " 2016: 7,\n",
       " 2018: 17,\n",
       " 2019: 19,\n",
       " 2020: 21,\n",
       " 2049: 31,\n",
       " 2050: 37,\n",
       " 2051: 34,\n",
       " 2052: 44,\n",
       " 2053: 87,\n",
       " 2054: 122,\n",
       " 2055: 15,\n",
       " 2056: 67,\n",
       " 2057: 37,\n",
       " 2058: 35,\n",
       " 2060: 21,\n",
       " 2061: 52,\n",
       " 2062: 41,\n",
       " 2063: 38,\n",
       " 2064: 72,\n",
       " 2065: 126,\n",
       " 2066: 73,\n",
       " 2067: 97,\n",
       " 2068: 31,\n",
       " 2069: 42,\n",
       " 2070: 30,\n",
       " 2073: 15,\n",
       " 2076: 15,\n",
       " 2096: 15}"
      ]
     },
     "execution_count": 15,
     "metadata": {},
     "output_type": "execute_result"
    }
   ],
   "source": [
    "xe_per_year = {}\n",
    "xe_power_e = 80 #MWe\n",
    "for key in sorted_yearly_need.keys():\n",
    "    xe_per_year[key] = math.ceil(sorted_yearly_need[key]/xe_power_e) #rounded up\n",
    "xe_per_year"
   ]
  },
  {
   "cell_type": "code",
   "execution_count": 16,
   "id": "f2f5ae5c",
   "metadata": {},
   "outputs": [
    {
     "data": {
      "text/plain": [
       "dict_keys([1976, 1987, 1989, 1992, 1996, 1997, 1998, 2013, 2014, 2016, 2018, 2019, 2020, 2049, 2050, 2051, 2052, 2053, 2054, 2055, 2056, 2057, 2058, 2060, 2061, 2062, 2063, 2064, 2065, 2066, 2067, 2068, 2069, 2070, 2073, 2076, 2096])"
      ]
     },
     "execution_count": 16,
     "metadata": {},
     "output_type": "execute_result"
    }
   ],
   "source": [
    "xe_per_year.keys()"
   ]
  },
  {
   "cell_type": "code",
   "execution_count": 17,
   "id": "55e66635",
   "metadata": {},
   "outputs": [],
   "source": [
    "y = [1976, 1987, 1989, 1992, 1996, 1997, 1998, 2013, 2014, 2016, 2018, 2019, 2020, 2049, 2050, 2051, 2052, 2053, 2054, 2055, 2056, 2057, 2058, 2060, 2061, 2062, 2063, 2064, 2065, 2066, 2067, 2068, 2069, 2070, 2073, 2076, 2096]\n",
    "\n",
    "build_times = []\n",
    "for i in range(len(y)):\n",
    "    build_times.append((y[i] - 1965)*12)"
   ]
  },
  {
   "cell_type": "code",
   "execution_count": 18,
   "id": "322d7655",
   "metadata": {
    "scrolled": true
   },
   "outputs": [
    {
     "data": {
      "text/plain": [
       "[132,\n",
       " 264,\n",
       " 288,\n",
       " 324,\n",
       " 372,\n",
       " 384,\n",
       " 396,\n",
       " 576,\n",
       " 588,\n",
       " 612,\n",
       " 636,\n",
       " 648,\n",
       " 660,\n",
       " 1008,\n",
       " 1020,\n",
       " 1032,\n",
       " 1044,\n",
       " 1056,\n",
       " 1068,\n",
       " 1080,\n",
       " 1092,\n",
       " 1104,\n",
       " 1116,\n",
       " 1140,\n",
       " 1152,\n",
       " 1164,\n",
       " 1176,\n",
       " 1188,\n",
       " 1200,\n",
       " 1212,\n",
       " 1224,\n",
       " 1236,\n",
       " 1248,\n",
       " 1260,\n",
       " 1296,\n",
       " 1332,\n",
       " 1572]"
      ]
     },
     "execution_count": 18,
     "metadata": {},
     "output_type": "execute_result"
    }
   ],
   "source": [
    "build_times"
   ]
  },
  {
   "cell_type": "code",
   "execution_count": 19,
   "id": "34ae2998",
   "metadata": {},
   "outputs": [
    {
     "data": {
      "text/plain": [
       "2096.0"
      ]
     },
     "execution_count": 19,
     "metadata": {},
     "output_type": "execute_result"
    }
   ],
   "source": [
    "1572/12 + 1965\n"
   ]
  },
  {
   "cell_type": "markdown",
   "id": "7442ca3a",
   "metadata": {},
   "source": [
    "## Two Reactors Simulation"
   ]
  },
  {
   "cell_type": "code",
   "execution_count": 20,
   "id": "f843efeb",
   "metadata": {},
   "outputs": [
    {
     "ename": "OperationalError",
     "evalue": "no such table: Resources",
     "output_type": "error",
     "traceback": [
      "\u001b[0;31m---------------------------------------------------------------------------\u001b[0m",
      "\u001b[0;31mOperationalError\u001b[0m                          Traceback (most recent call last)",
      "Cell \u001b[0;32mIn[20], line 3\u001b[0m\n\u001b[1;32m      1\u001b[0m conn \u001b[38;5;241m=\u001b[39m sqlite3\u001b[38;5;241m.\u001b[39mconnect(\u001b[38;5;124m\"\u001b[39m\u001b[38;5;124mcyclus.sqlite\u001b[39m\u001b[38;5;124m\"\u001b[39m)\n\u001b[1;32m      2\u001b[0m cur \u001b[38;5;241m=\u001b[39m conn\u001b[38;5;241m.\u001b[39mcursor()\n\u001b[0;32m----> 3\u001b[0m \u001b[43mcur\u001b[49m\u001b[38;5;241;43m.\u001b[39;49m\u001b[43mexecute\u001b[49m\u001b[43m(\u001b[49m\u001b[38;5;124;43m\"\u001b[39;49m\u001b[38;5;124;43mSELECT * FROM Resources\u001b[39;49m\u001b[38;5;124;43m\"\u001b[39;49m\u001b[43m)\u001b[49m\n\u001b[1;32m      5\u001b[0m rows \u001b[38;5;241m=\u001b[39m cur\u001b[38;5;241m.\u001b[39mfetchall()\n\u001b[1;32m      7\u001b[0m \u001b[38;5;28;01mfor\u001b[39;00m row \u001b[38;5;129;01min\u001b[39;00m rows:\n",
      "\u001b[0;31mOperationalError\u001b[0m: no such table: Resources"
     ]
    }
   ],
   "source": [
    "conn = sqlite3.connect(\"cyclus.sqlite\")\n",
    "cur = conn.cursor()\n",
    "cur.execute(\"SELECT * FROM Resources\")\n",
    "\n",
    "rows = cur.fetchall()\n",
    "\n",
    "for row in rows:\n",
    "    print(row)"
   ]
  },
  {
   "cell_type": "code",
   "execution_count": null,
   "id": "cf3c9614",
   "metadata": {},
   "outputs": [],
   "source": [
    "type(ac_re[4])"
   ]
  },
  {
   "cell_type": "markdown",
   "id": "85425646",
   "metadata": {},
   "source": [
    "# Capacity Expansion Calculations"
   ]
  },
  {
   "cell_type": "code",
   "execution_count": null,
   "id": "10436624",
   "metadata": {},
   "outputs": [],
   "source": [
    "sim_start_yr = 1965\n",
    "sim_end_yr = 2096\n",
    "\n",
    "ar_start_dep = 2030\n",
    "ars = {'xe':80}\n",
    "demand = []\n"
   ]
  },
  {
   "cell_type": "markdown",
   "id": "24938ce4",
   "metadata": {},
   "source": [
    "# Share Calculations"
   ]
  },
  {
   "cell_type": "code",
   "execution_count": 151,
   "id": "96782009",
   "metadata": {},
   "outputs": [],
   "source": [
    "# define start and end year of the simulation\n",
    "sim_start_yr = 1965\n",
    "sim_end_yr = 2096\n",
    "\n",
    "# define the start of each advanced reactor's deployment, and a dictionary of the reactors and their power\n",
    "ar_start_dep_xe = 2030\n",
    "ars = {'xe':80}\n",
    "\n",
    "# define the percentage increase from one year to the next\n",
    "xe_share_inc = 1.1  # 1% increase\n",
    "\n",
    "# create a dictionary of zeros to input the number of reactors needed to meet the share increase\n",
    "ar_dep = {'xe':np.zeros(sim_end_yr - sim_start_yr)}\n",
    "\n",
    "# go through the years of the simulation, and ignore the years before the start of advanced reactors beign deployed\n",
    "for year in range(sim_end_yr - sim_start_yr):\n",
    "    if year < (ar_start_dep_xe - sim_start_yr):\n",
    "        pass\n",
    "    elif year == (ar_start_dep_xe - sim_start_yr):\n",
    "        num_reac = 1\n",
    "        ar_dep['xe'][year] = num_reac\n",
    "    else:\n",
    "        num_reac = ar_dep['xe'][year-1] * xe_share_inc\n",
    "        ar_dep['xe'][year] = num_reac\n",
    "\n",
    "# go through the advanced reactor deployments to get the number of new reactors from one year to the next\n",
    "inter_ar_dep = ar_dep['xe'].copy()\n",
    "for year in range(1,len(inter_ar_dep)):\n",
    "    inter_ar_dep[year] = ar_dep['xe'][year] - divmod(ar_dep['xe'][year-1], 1)[0] \n",
    "\n",
    "# create a dictionary with the number of new reactors at each timestep\n",
    "when_ars = {'xe':inter_ar_dep.copy()}\n",
    "\n",
    "# optional output when_ars as only integers, rounded down\n",
    "when_ars['xe'].astype(int)"
   ]
  },
  {
   "cell_type": "code",
   "execution_count": 215,
   "id": "6d3c459f",
   "metadata": {},
   "outputs": [],
   "source": [
    "class ReactorDeployment:\n",
    "    \"\"\"A class to perform reactor deployment calculations.\"\"\"\n",
    "\n",
    "    def __init__(self, sim_start_yr, sim_end_yr, ar_start_dep, ars):\n",
    "        \"\"\"\n",
    "        Initializes the ReactorDeployment object.\n",
    "\n",
    "        Parameters\n",
    "        ----------\n",
    "        sim_start_yr: int\n",
    "          The start year of the simulation.\n",
    "        sim_end_yr: int\n",
    "          The end year of the simulation.\n",
    "        ar_start_dep: dict\n",
    "          Dictionary of reactor start deployment years.\n",
    "        ars: dict\n",
    "          Dictionary of reactors, their power, and their share increases.\n",
    "          Format {'name': [{'share_inc': num_as_percent},{'power':num}]}\n",
    "          For a 1% share increase\n",
    "        \"\"\"\n",
    "        self.sim_start_yr = sim_start_yr\n",
    "        self.sim_end_yr = sim_end_yr\n",
    "        self.ar_start_dep = ar_start_dep\n",
    "        self.ars = ars\n",
    "        self.ar_dep = {reactor: np.zeros(sim_end_yr - sim_start_yr) for reactor in ars.keys()}\n",
    "        self.when_ars = {reactor: None for reactor in ars.keys()}\n",
    "\n",
    "    def calculate_capacity_deployment(self):\n",
    "        \"\"\"\n",
    "        Calculates the number of reactors deployed at each timestep\n",
    "        based on the demand increase from the previous year.\n",
    "        \"\"\"\n",
    "        for reactor in self.ars.keys():\n",
    "            demand_inc = self.ars[reactor][0]['power']\n",
    "    \n",
    "    def calculate_share_deployment(self):\n",
    "        \"\"\"\n",
    "        Calculates the number of reactors deployed at each timestep\n",
    "        based on the percentage increase from the previous year.\n",
    "        \"\"\"\n",
    "        for reactor in self.ars.keys():\n",
    "            share_inc = self.ars[reactor][0]['share_inc']\n",
    "            start_year = self.ar_start_dep.get(reactor, self.sim_start_yr)\n",
    "            for year in range(self.sim_end_yr - self.sim_start_yr):\n",
    "                if year < (start_year - self.sim_start_yr):\n",
    "                    pass\n",
    "                elif year == (start_year - self.sim_start_yr):\n",
    "                    num_reac = 1\n",
    "                    self.ar_dep[reactor][year] = num_reac\n",
    "                else:\n",
    "                    num_reac = self.ar_dep[reactor][year-1] * share_inc\n",
    "                    self.ar_dep[reactor][year] = num_reac\n",
    "        return self.ar_dep\n",
    "\n",
    "    def new_deps(self):\n",
    "        \"\"\"\n",
    "        Calculates the number of new reactors deployed at each timestep.\n",
    "        \n",
    "        Returns\n",
    "        -------\n",
    "        when_ars: dict\n",
    "          A dictionary where keys are reactors, and values are an \n",
    "          array of additional reactors.\n",
    "        \"\"\"\n",
    "        for reactor in self.ar_dep.keys():\n",
    "            inter_ar_dep = self.ar_dep[reactor].copy()\n",
    "            for year in range(1, len(inter_ar_dep)):\n",
    "                inter_ar_dep[year] = self.ar_dep[reactor][year] - divmod(self.ar_dep[reactor][year-1], 1)[0]\n",
    "            self.when_ars[reactor] = inter_ar_dep\n",
    "        return self.when_ars\n",
    "\n",
    "    def round_new_deps(self):\n",
    "        \"\"\"\n",
    "        Rounds the number of new reactors down at each timestep.\n",
    "        \n",
    "        Returns\n",
    "        -------\n",
    "        rounded_when_ars: dict\n",
    "          A dictionary where keys are reactors, and values are an \n",
    "          array of additional reactors. Rownded down.\n",
    "        \"\"\"\n",
    "        rounded_when_ars = {reactor: self.when_ars[reactor].astype(int) for reactor in self.when_ars.keys()}\n",
    "        return rounded_when_ars"
   ]
  },
  {
   "cell_type": "code",
   "execution_count": 216,
   "id": "5861d955",
   "metadata": {},
   "outputs": [
    {
     "name": "stdout",
     "output_type": "stream",
     "text": [
      "{'xe': array([ 0,  0,  0,  0,  0,  0,  0,  0,  0,  0,  0,  0,  0,  0,  0,  0,  0,\n",
      "        0,  0,  0,  0,  0,  0,  0,  0,  0,  0,  0,  0,  0,  0,  0,  0,  0,\n",
      "        0,  0,  0,  0,  0,  0,  0,  0,  0,  0,  0,  0,  0,  0,  0,  0,  0,\n",
      "        0,  0,  0,  0,  0,  0,  0,  0,  0,  0,  0,  0,  0,  0,  1,  0,  0,\n",
      "        0,  0,  0,  0,  0,  1,  0,  0,  0,  1,  0,  0,  1,  0,  1,  0,  1,\n",
      "        0,  1,  1,  0,  1,  1,  1,  2,  1,  1,  2,  2,  2,  2,  2,  3,  2,\n",
      "        4,  3,  4,  4,  4,  5,  6,  6,  6,  8,  8,  9,  9, 11, 12, 13, 14,\n",
      "       15, 18, 18, 21, 23, 25, 28, 30, 34, 37, 40, 45]), 'other_reactor': array([ 0,  0,  0,  0,  0,  0,  0,  0,  0,  0,  0,  0,  0,  0,  0,  0,  0,\n",
      "        0,  0,  0,  0,  0,  0,  0,  0,  0,  0,  0,  0,  0,  0,  0,  0,  0,\n",
      "        0,  0,  0,  0,  0,  0,  0,  0,  0,  0,  0,  0,  0,  0,  0,  0,  0,\n",
      "        0,  0,  0,  0,  0,  0,  0,  0,  0,  0,  0,  0,  0,  0,  1,  0,  0,\n",
      "        0,  0,  0,  0,  0,  1,  0,  0,  0,  1,  0,  0,  1,  0,  1,  0,  1,\n",
      "        0,  1,  1,  0,  1,  1,  1,  2,  1,  1,  2,  2,  2,  2,  2,  3,  2,\n",
      "        4,  3,  4,  4,  4,  5,  6,  6,  6,  8,  8,  9,  9, 11, 12, 13, 14,\n",
      "       15, 18, 18, 21, 23, 25, 28, 30, 34, 37, 40, 45])}\n"
     ]
    }
   ],
   "source": [
    "# Example Usage:\n",
    "sim_start_yr = 1965\n",
    "sim_end_yr = 2096\n",
    "ar_start_dep = {'xe': 2030, 'other_reactor': 2030}\n",
    "ars = {'xe': [{'share_inc': 1.1},{'power':80}], \n",
    "       'other_reactor': [{'share_inc': 1.1},{'power':80}]}\n",
    "\n",
    "share_deployment = ReactorDeployment(sim_start_yr, sim_end_yr, ar_start_dep, ars)\n",
    "share_deployment.calculate_share_deployment()\n",
    "share_deployment.new_deps()\n",
    "rounded_share = share_deployment.round_new_deps()\n",
    "\n",
    "print(rounded_share)"
   ]
  },
  {
   "cell_type": "code",
   "execution_count": null,
   "id": "fa0b6919",
   "metadata": {},
   "outputs": [],
   "source": []
  }
 ],
 "metadata": {
  "kernelspec": {
   "display_name": "Python 3",
   "language": "python",
   "name": "python3"
  },
  "language_info": {
   "codemirror_mode": {
    "name": "ipython",
    "version": 3
   },
   "file_extension": ".py",
   "mimetype": "text/x-python",
   "name": "python",
   "nbconvert_exporter": "python",
   "pygments_lexer": "ipython3",
   "version": "3.6.11"
  },
  "latex_envs": {
   "LaTeX_envs_menu_present": true,
   "autoclose": false,
   "autocomplete": true,
   "bibliofile": "biblio.bib",
   "cite_by": "apalike",
   "current_citInitial": 1,
   "eqLabelWithNumbers": true,
   "eqNumInitial": 1,
   "hotkeys": {
    "equation": "Ctrl-E",
    "itemize": "Ctrl-I"
   },
   "labels_anchors": false,
   "latex_user_defs": false,
   "report_style_numbering": false,
   "user_envs_cfg": false
  }
 },
 "nbformat": 4,
 "nbformat_minor": 5
}
